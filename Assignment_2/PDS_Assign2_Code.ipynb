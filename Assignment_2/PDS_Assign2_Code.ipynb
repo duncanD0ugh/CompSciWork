{
 "cells": [
  {
   "cell_type": "code",
   "execution_count": 1,
   "metadata": {},
   "outputs": [
    {
     "name": "stdout",
     "output_type": "stream",
     "text": [
      "---Task 1: Retrieving and Preparing the Data---\n"
     ]
    }
   ],
   "source": [
    "print('---Task 1: Retrieving and Preparing the Data---')"
   ]
  },
  {
   "cell_type": "code",
   "execution_count": 2,
   "metadata": {},
   "outputs": [],
   "source": [
    "mice_p = 'Data_Cortex_Nuclear.xls'"
   ]
  },
  {
   "cell_type": "code",
   "execution_count": 3,
   "metadata": {},
   "outputs": [],
   "source": [
    "import pandas as pd\n",
    "import numpy as np\n",
    "import matplotlib.pyplot as plt\n",
    "from sklearn.model_selection import train_test_split\n",
    "from sklearn.neighbors import KNeighborsClassifier\n",
    "from sklearn.metrics import confusion_matrix\n",
    "from sklearn.model_selection import KFold\n",
    "from sklearn.tree import DecisionTreeClassifier"
   ]
  },
  {
   "cell_type": "code",
   "execution_count": 4,
   "metadata": {},
   "outputs": [],
   "source": [
    "mice = pd.read_excel(mice_p)"
   ]
  },
  {
   "cell_type": "code",
   "execution_count": 5,
   "metadata": {},
   "outputs": [
    {
     "name": "stdout",
     "output_type": "stream",
     "text": [
      "---Task 1: Retrieving and Preparing the Data: Data Types---\n"
     ]
    }
   ],
   "source": [
    "print('---Task 1: Retrieving and Preparing the Data: Data Types---')"
   ]
  },
  {
   "cell_type": "code",
   "execution_count": 6,
   "metadata": {},
   "outputs": [
    {
     "data": {
      "text/plain": [
       "MouseID       object\n",
       "DYRK1A_N     float64\n",
       "ITSN1_N      float64\n",
       "BDNF_N       float64\n",
       "NR1_N        float64\n",
       "              ...   \n",
       "CaNA_N       float64\n",
       "Genotype      object\n",
       "Treatment     object\n",
       "Behavior      object\n",
       "class         object\n",
       "Length: 82, dtype: object"
      ]
     },
     "execution_count": 6,
     "metadata": {},
     "output_type": "execute_result"
    }
   ],
   "source": [
    "mice.dtypes"
   ]
  },
  {
   "cell_type": "code",
   "execution_count": 7,
   "metadata": {},
   "outputs": [
    {
     "data": {
      "text/plain": [
       "3418_13    1\n",
       "3414_12    1\n",
       "3605_8     1\n",
       "3415_6     1\n",
       "3429_1     1\n",
       "          ..\n",
       "3513_14    1\n",
       "3503_7     1\n",
       "3513_3     1\n",
       "3498_3     1\n",
       "3415_1     1\n",
       "Name: MouseID, Length: 1080, dtype: int64"
      ]
     },
     "execution_count": 7,
     "metadata": {},
     "output_type": "execute_result"
    }
   ],
   "source": [
    "mice.MouseID.value_counts()"
   ]
  },
  {
   "cell_type": "code",
   "execution_count": 8,
   "metadata": {},
   "outputs": [
    {
     "data": {
      "text/plain": [
       "0          309_1\n",
       "1          309_2\n",
       "2          309_3\n",
       "3          309_4\n",
       "4          309_5\n",
       "          ...   \n",
       "1075    J3295_11\n",
       "1076    J3295_12\n",
       "1077    J3295_13\n",
       "1078    J3295_14\n",
       "1079    J3295_15\n",
       "Name: MouseID, Length: 1080, dtype: object"
      ]
     },
     "execution_count": 8,
     "metadata": {},
     "output_type": "execute_result"
    }
   ],
   "source": [
    "mice.MouseID.astype(str)"
   ]
  },
  {
   "cell_type": "code",
   "execution_count": 9,
   "metadata": {},
   "outputs": [
    {
     "data": {
      "text/plain": [
       "Control    570\n",
       "Ts65Dn     510\n",
       "Name: Genotype, dtype: int64"
      ]
     },
     "execution_count": 9,
     "metadata": {},
     "output_type": "execute_result"
    }
   ],
   "source": [
    "mice.Genotype.value_counts()"
   ]
  },
  {
   "cell_type": "code",
   "execution_count": 10,
   "metadata": {},
   "outputs": [
    {
     "data": {
      "text/plain": [
       "0       Control\n",
       "1       Control\n",
       "2       Control\n",
       "3       Control\n",
       "4       Control\n",
       "         ...   \n",
       "1075     Ts65Dn\n",
       "1076     Ts65Dn\n",
       "1077     Ts65Dn\n",
       "1078     Ts65Dn\n",
       "1079     Ts65Dn\n",
       "Name: Genotype, Length: 1080, dtype: object"
      ]
     },
     "execution_count": 10,
     "metadata": {},
     "output_type": "execute_result"
    }
   ],
   "source": [
    "mice.Genotype.astype(str)"
   ]
  },
  {
   "cell_type": "code",
   "execution_count": 11,
   "metadata": {},
   "outputs": [
    {
     "data": {
      "text/plain": [
       "Memantine    570\n",
       "Saline       510\n",
       "Name: Treatment, dtype: int64"
      ]
     },
     "execution_count": 11,
     "metadata": {},
     "output_type": "execute_result"
    }
   ],
   "source": [
    "mice.Treatment.value_counts()"
   ]
  },
  {
   "cell_type": "code",
   "execution_count": 12,
   "metadata": {},
   "outputs": [
    {
     "data": {
      "text/plain": [
       "0       Memantine\n",
       "1       Memantine\n",
       "2       Memantine\n",
       "3       Memantine\n",
       "4       Memantine\n",
       "          ...    \n",
       "1075       Saline\n",
       "1076       Saline\n",
       "1077       Saline\n",
       "1078       Saline\n",
       "1079       Saline\n",
       "Name: Treatment, Length: 1080, dtype: object"
      ]
     },
     "execution_count": 12,
     "metadata": {},
     "output_type": "execute_result"
    }
   ],
   "source": [
    "mice.Treatment.astype(str)"
   ]
  },
  {
   "cell_type": "code",
   "execution_count": 13,
   "metadata": {},
   "outputs": [
    {
     "data": {
      "text/plain": [
       "S/C    555\n",
       "C/S    525\n",
       "Name: Behavior, dtype: int64"
      ]
     },
     "execution_count": 13,
     "metadata": {},
     "output_type": "execute_result"
    }
   ],
   "source": [
    "mice.Behavior.value_counts()"
   ]
  },
  {
   "cell_type": "code",
   "execution_count": 14,
   "metadata": {},
   "outputs": [
    {
     "data": {
      "text/plain": [
       "0       C/S\n",
       "1       C/S\n",
       "2       C/S\n",
       "3       C/S\n",
       "4       C/S\n",
       "       ... \n",
       "1075    S/C\n",
       "1076    S/C\n",
       "1077    S/C\n",
       "1078    S/C\n",
       "1079    S/C\n",
       "Name: Behavior, Length: 1080, dtype: object"
      ]
     },
     "execution_count": 14,
     "metadata": {},
     "output_type": "execute_result"
    }
   ],
   "source": [
    "mice.Behavior.astype(str)"
   ]
  },
  {
   "cell_type": "code",
   "execution_count": 15,
   "metadata": {},
   "outputs": [
    {
     "data": {
      "text/plain": [
       "c-SC-m    150\n",
       "c-CS-m    150\n",
       "t-SC-m    135\n",
       "t-CS-m    135\n",
       "t-SC-s    135\n",
       "c-SC-s    135\n",
       "c-CS-s    135\n",
       "t-CS-s    105\n",
       "Name: class, dtype: int64"
      ]
     },
     "execution_count": 15,
     "metadata": {},
     "output_type": "execute_result"
    }
   ],
   "source": [
    "mice['class'].value_counts()"
   ]
  },
  {
   "cell_type": "code",
   "execution_count": 16,
   "metadata": {},
   "outputs": [
    {
     "data": {
      "text/plain": [
       "0       c-CS-m\n",
       "1       c-CS-m\n",
       "2       c-CS-m\n",
       "3       c-CS-m\n",
       "4       c-CS-m\n",
       "         ...  \n",
       "1075    t-SC-s\n",
       "1076    t-SC-s\n",
       "1077    t-SC-s\n",
       "1078    t-SC-s\n",
       "1079    t-SC-s\n",
       "Name: class, Length: 1080, dtype: object"
      ]
     },
     "execution_count": 16,
     "metadata": {},
     "output_type": "execute_result"
    }
   ],
   "source": [
    "mice['class'].astype(str)"
   ]
  },
  {
   "cell_type": "code",
   "execution_count": 17,
   "metadata": {},
   "outputs": [
    {
     "name": "stdout",
     "output_type": "stream",
     "text": [
      "---Task 1: Retrieving and Preparing the Data: Typos AND Extra-whitespaces---\n"
     ]
    }
   ],
   "source": [
    "print('---Task 1: Retrieving and Preparing the Data: Typos AND Extra-whitespaces---')"
   ]
  },
  {
   "cell_type": "code",
   "execution_count": 18,
   "metadata": {},
   "outputs": [
    {
     "data": {
      "text/plain": [
       "0       c-CS-m\n",
       "1       c-CS-m\n",
       "2       c-CS-m\n",
       "3       c-CS-m\n",
       "4       c-CS-m\n",
       "         ...  \n",
       "1075    t-SC-s\n",
       "1076    t-SC-s\n",
       "1077    t-SC-s\n",
       "1078    t-SC-s\n",
       "1079    t-SC-s\n",
       "Name: class, Length: 1080, dtype: object"
      ]
     },
     "execution_count": 18,
     "metadata": {},
     "output_type": "execute_result"
    }
   ],
   "source": [
    "mice.MouseID.str.strip()\n",
    "mice.Genotype.str.strip()\n",
    "mice.Treatment.str.strip()\n",
    "mice.Behavior.str.strip()\n",
    "mice['class'].str.strip()"
   ]
  },
  {
   "cell_type": "code",
   "execution_count": 19,
   "metadata": {},
   "outputs": [],
   "source": [
    "mice.Genotype = mice.Genotype.replace('Ts65Dn', 'Trisomy', inplace = True)"
   ]
  },
  {
   "cell_type": "code",
   "execution_count": 20,
   "metadata": {},
   "outputs": [
    {
     "name": "stdout",
     "output_type": "stream",
     "text": [
      "---Task 1: Retrieving and Preparing the Data: NaN Values---\n"
     ]
    }
   ],
   "source": [
    "print('---Task 1: Retrieving and Preparing the Data: NaN Values---')"
   ]
  },
  {
   "cell_type": "code",
   "execution_count": 21,
   "metadata": {},
   "outputs": [],
   "source": [
    "mice.fillna(0, inplace = True)\n",
    "#All String fields were verified with no NaN values, thus a broad NaN replacement for the float fields was appropriate"
   ]
  },
  {
   "cell_type": "code",
   "execution_count": 22,
   "metadata": {},
   "outputs": [
    {
     "name": "stdout",
     "output_type": "stream",
     "text": [
      "---Task 2: Data Exploration: Explore a Column---\n"
     ]
    }
   ],
   "source": [
    "print('---Task 2: Data Exploration: Explore a Column---')"
   ]
  },
  {
   "cell_type": "code",
   "execution_count": 23,
   "metadata": {},
   "outputs": [],
   "source": [
    "protein1 = mice.DYRK1A_N\n",
    "protein2 = mice.ITSN1_N\n",
    "protein3 = mice.BDNF_N\n",
    "protein4 = mice.NR1_N\n",
    "protein5 = mice.NR2A_N\n",
    "protein6 = mice.pAKT_N\n",
    "protein7 = mice.pBRAF_N\n",
    "protein8 = mice.pCAMKII_N\n",
    "protein9 = mice.pCREB_N\n",
    "protein10 = mice.pELK_N"
   ]
  },
  {
   "cell_type": "code",
   "execution_count": 24,
   "metadata": {},
   "outputs": [],
   "source": [
    "protein1 = protein1.replace(0, np.NaN)\n",
    "protein1mean = protein1.mean()\n",
    "\n",
    "protein2 = protein2.replace(0, np.NaN)\n",
    "protein2mean = protein2.mean()\n",
    "\n",
    "protein3 = protein3.replace(0, np.NaN)\n",
    "protein3mean = protein3.mean()\n",
    "\n",
    "protein4 = protein4.replace(0, np.NaN)\n",
    "protein4mean = protein4.mean()\n",
    "\n",
    "protein5 = protein5.replace(0, np.NaN)\n",
    "protein5mean = protein5.mean()\n",
    "\n",
    "protein6 = protein6.replace(0, np.NaN)\n",
    "protein6mean = protein6.mean()\n",
    "\n",
    "protein7 = protein7.replace(0, np.NaN)\n",
    "protein7mean = protein7.mean()\n",
    "\n",
    "protein8 = protein8.replace(0, np.NaN)\n",
    "protein8mean = protein8.mean()\n",
    "\n",
    "protein9 = protein9.replace(0, np.NaN)\n",
    "protein9mean = protein9.mean()\n",
    "\n",
    "protein10 = protein10.replace(0, np.NaN)\n",
    "protein10mean = protein10.mean()"
   ]
  },
  {
   "cell_type": "code",
   "execution_count": 25,
   "metadata": {},
   "outputs": [
    {
     "data": {
      "text/html": [
       "<div>\n",
       "<style scoped>\n",
       "    .dataframe tbody tr th:only-of-type {\n",
       "        vertical-align: middle;\n",
       "    }\n",
       "\n",
       "    .dataframe tbody tr th {\n",
       "        vertical-align: top;\n",
       "    }\n",
       "\n",
       "    .dataframe thead th {\n",
       "        text-align: right;\n",
       "    }\n",
       "</style>\n",
       "<table border=\"1\" class=\"dataframe\">\n",
       "  <thead>\n",
       "    <tr style=\"text-align: right;\">\n",
       "      <th></th>\n",
       "      <th>DYRK1A_N mean</th>\n",
       "      <th>ITSN1_N mean</th>\n",
       "      <th>BDNF_N mean</th>\n",
       "      <th>NR1_N mean</th>\n",
       "      <th>NR2A_N mean</th>\n",
       "      <th>pAKT_N mean</th>\n",
       "      <th>pBRAF_N mean</th>\n",
       "      <th>pCAMKII_N mean</th>\n",
       "      <th>pCREB_N mean</th>\n",
       "      <th>pELK_N mean</th>\n",
       "    </tr>\n",
       "  </thead>\n",
       "  <tbody>\n",
       "    <tr>\n",
       "      <th>0</th>\n",
       "      <td>0.42581</td>\n",
       "      <td>0.617102</td>\n",
       "      <td>0.319088</td>\n",
       "      <td>2.297269</td>\n",
       "      <td>3.843934</td>\n",
       "      <td>0.233168</td>\n",
       "      <td>0.181846</td>\n",
       "      <td>3.537109</td>\n",
       "      <td>0.212574</td>\n",
       "      <td>1.428682</td>\n",
       "    </tr>\n",
       "  </tbody>\n",
       "</table>\n",
       "</div>"
      ],
      "text/plain": [
       "   DYRK1A_N mean  ITSN1_N mean  BDNF_N mean  NR1_N mean  NR2A_N mean  \\\n",
       "0        0.42581      0.617102     0.319088    2.297269     3.843934   \n",
       "\n",
       "   pAKT_N mean  pBRAF_N mean  pCAMKII_N mean  pCREB_N mean  pELK_N mean  \n",
       "0     0.233168      0.181846        3.537109      0.212574     1.428682  "
      ]
     },
     "execution_count": 25,
     "metadata": {},
     "output_type": "execute_result"
    }
   ],
   "source": [
    "proteinMeanData = {'DYRK1A_N mean' : [protein1mean], 'ITSN1_N mean' : [protein2mean], 'BDNF_N mean' : [protein3mean], \n",
    "                   'NR1_N mean' : [protein4mean], 'NR2A_N mean' : [protein5mean], 'pAKT_N mean' : [protein6mean], \n",
    "                   'pBRAF_N mean' : [protein7mean], 'pCAMKII_N mean' : [protein8mean], 'pCREB_N mean' : [protein9mean], \n",
    "                   'pELK_N mean' : [protein10mean],}\n",
    "proteinMeanTable = pd.DataFrame(data = proteinMeanData)\n",
    "proteinMeanTable\n",
    "#Exploration of 10 columns in 1 representation"
   ]
  },
  {
   "cell_type": "code",
   "execution_count": 26,
   "metadata": {},
   "outputs": [
    {
     "name": "stdout",
     "output_type": "stream",
     "text": [
      "---Task 2: Data Exploration: Explore attribute relationships---\n"
     ]
    }
   ],
   "source": [
    "print('---Task 2: Data Exploration: Explore attribute relationships---')"
   ]
  },
  {
   "cell_type": "code",
   "execution_count": 27,
   "metadata": {},
   "outputs": [
    {
     "data": {
      "text/html": [
       "<div>\n",
       "<style scoped>\n",
       "    .dataframe tbody tr th:only-of-type {\n",
       "        vertical-align: middle;\n",
       "    }\n",
       "\n",
       "    .dataframe tbody tr th {\n",
       "        vertical-align: top;\n",
       "    }\n",
       "\n",
       "    .dataframe thead th {\n",
       "        text-align: right;\n",
       "    }\n",
       "</style>\n",
       "<table border=\"1\" class=\"dataframe\">\n",
       "  <thead>\n",
       "    <tr style=\"text-align: right;\">\n",
       "      <th></th>\n",
       "      <th>c-CS-s</th>\n",
       "      <th>c-CS-m</th>\n",
       "      <th>c-SC-s</th>\n",
       "      <th>c-SC-m</th>\n",
       "      <th>t-CS-s</th>\n",
       "      <th>t-CS-m</th>\n",
       "      <th>t-SC-s</th>\n",
       "      <th>t-SC-m</th>\n",
       "    </tr>\n",
       "  </thead>\n",
       "  <tbody>\n",
       "    <tr>\n",
       "      <th>DYRK1A_N</th>\n",
       "      <td>0.596748</td>\n",
       "      <td>0.480456</td>\n",
       "      <td>0.274823</td>\n",
       "      <td>0.273203</td>\n",
       "      <td>0.525735</td>\n",
       "      <td>0.619294</td>\n",
       "      <td>0.337488</td>\n",
       "      <td>0.329861</td>\n",
       "    </tr>\n",
       "  </tbody>\n",
       "</table>\n",
       "</div>"
      ],
      "text/plain": [
       "            c-CS-s    c-CS-m    c-SC-s    c-SC-m    t-CS-s    t-CS-m  \\\n",
       "DYRK1A_N  0.596748  0.480456  0.274823  0.273203  0.525735  0.619294   \n",
       "\n",
       "            t-SC-s    t-SC-m  \n",
       "DYRK1A_N  0.337488  0.329861  "
      ]
     },
     "execution_count": 27,
     "metadata": {},
     "output_type": "execute_result"
    }
   ],
   "source": [
    "exp1 = mice[['DYRK1A_N', 'class']]\n",
    "exp1 = exp1[exp1.DYRK1A_N != 0]\n",
    "\n",
    "exp1class1 = exp1[exp1['class'] == 'c-CS-s']\n",
    "class1avg = exp1class1.mean()\n",
    "\n",
    "exp1class2 = exp1[exp1['class'] == 'c-CS-m']\n",
    "class2avg = exp1class2.mean()\n",
    "\n",
    "exp1class3 = exp1[exp1['class'] == 'c-SC-s']\n",
    "class3avg = exp1class3.mean()\n",
    "\n",
    "exp1class4 = exp1[exp1['class'] == 'c-SC-m']\n",
    "class4avg = exp1class4.mean()\n",
    "\n",
    "exp1class5 = exp1[exp1['class'] == 't-CS-s']\n",
    "class5avg = exp1class5.mean()\n",
    "\n",
    "exp1class6 = exp1[exp1['class'] == 't-CS-m']\n",
    "class6avg = exp1class6.mean()\n",
    "\n",
    "exp1class7 = exp1[exp1['class'] == 't-SC-s']\n",
    "class7avg = exp1class7.mean()\n",
    "\n",
    "exp1class8 = exp1[exp1['class'] == 't-SC-m']\n",
    "class8avg = exp1class8.mean()\n",
    "\n",
    "classAvgData = {'c-CS-s' : class1avg, 'c-CS-m' : class2avg, 'c-SC-s' : class3avg, 'c-SC-m' : class4avg\n",
    "               ,'t-CS-s' : class5avg, 't-CS-m' : class6avg, 't-SC-s' : class7avg, 't-SC-m' : class8avg}\n",
    "classAvgs = pd.DataFrame(data = classAvgData)\n",
    "classAvgs"
   ]
  },
  {
   "cell_type": "code",
   "execution_count": 28,
   "metadata": {},
   "outputs": [
    {
     "data": {
      "image/png": "[encoded data removed]",
      "text/plain": [
       "<Figure size 432x288 with 1 Axes>"
      ]
     },
     "metadata": {
      "needs_background": "light"
     },
     "output_type": "display_data"
    }
   ],
   "source": [
    "row = classAvgs.iloc[0]\n",
    "row.plot(kind='bar', title = 'Average expression levels of protein DYRK1A_N for each class of Mice')\n",
    "plt.show()"
   ]
  },
  {
   "cell_type": "code",
   "execution_count": 29,
   "metadata": {},
   "outputs": [
    {
     "data": {
      "text/html": [
       "<div>\n",
       "<style scoped>\n",
       "    .dataframe tbody tr th:only-of-type {\n",
       "        vertical-align: middle;\n",
       "    }\n",
       "\n",
       "    .dataframe tbody tr th {\n",
       "        vertical-align: top;\n",
       "    }\n",
       "\n",
       "    .dataframe thead th {\n",
       "        text-align: right;\n",
       "    }\n",
       "</style>\n",
       "<table border=\"1\" class=\"dataframe\">\n",
       "  <thead>\n",
       "    <tr style=\"text-align: right;\">\n",
       "      <th></th>\n",
       "      <th>c-CS-s</th>\n",
       "      <th>c-CS-m</th>\n",
       "      <th>c-SC-s</th>\n",
       "      <th>c-SC-m</th>\n",
       "      <th>t-CS-s</th>\n",
       "      <th>t-CS-m</th>\n",
       "      <th>t-SC-s</th>\n",
       "      <th>t-SC-m</th>\n",
       "    </tr>\n",
       "  </thead>\n",
       "  <tbody>\n",
       "    <tr>\n",
       "      <th>ITSN1_N</th>\n",
       "      <td>0.772395</td>\n",
       "      <td>0.652587</td>\n",
       "      <td>0.449354</td>\n",
       "      <td>0.436361</td>\n",
       "      <td>0.759556</td>\n",
       "      <td>0.797007</td>\n",
       "      <td>0.549056</td>\n",
       "      <td>0.566783</td>\n",
       "    </tr>\n",
       "  </tbody>\n",
       "</table>\n",
       "</div>"
      ],
      "text/plain": [
       "           c-CS-s    c-CS-m    c-SC-s    c-SC-m    t-CS-s    t-CS-m    t-SC-s  \\\n",
       "ITSN1_N  0.772395  0.652587  0.449354  0.436361  0.759556  0.797007  0.549056   \n",
       "\n",
       "           t-SC-m  \n",
       "ITSN1_N  0.566783  "
      ]
     },
     "execution_count": 29,
     "metadata": {},
     "output_type": "execute_result"
    }
   ],
   "source": [
    "exp2 = mice[['ITSN1_N', 'class']]\n",
    "exp2 = exp2[exp2.ITSN1_N != 0]\n",
    "\n",
    "exp2class1 = exp2[exp2['class'] == 'c-CS-s']\n",
    "class1avg = exp2class1.mean()\n",
    "\n",
    "exp2class2 = exp2[exp2['class'] == 'c-CS-m']\n",
    "class2avg = exp2class2.mean()\n",
    "\n",
    "exp2class3 = exp2[exp2['class'] == 'c-SC-s']\n",
    "class3avg = exp2class3.mean()\n",
    "\n",
    "exp2class4 = exp2[exp2['class'] == 'c-SC-m']\n",
    "class4avg = exp2class4.mean()\n",
    "\n",
    "exp2class5 = exp2[exp2['class'] == 't-CS-s']\n",
    "class5avg = exp2class5.mean()\n",
    "\n",
    "exp2class6 = exp2[exp2['class'] == 't-CS-m']\n",
    "class6avg = exp2class6.mean()\n",
    "\n",
    "exp2class7 = exp2[exp2['class'] == 't-SC-s']\n",
    "class7avg = exp2class7.mean()\n",
    "\n",
    "exp2class8 = exp2[exp2['class'] == 't-SC-m']\n",
    "class8avg = exp2class8.mean()\n",
    "\n",
    "classAvgData = {'c-CS-s' : class1avg, 'c-CS-m' : class2avg, 'c-SC-s' : class3avg, 'c-SC-m' : class4avg\n",
    "               ,'t-CS-s' : class5avg, 't-CS-m' : class6avg, 't-SC-s' : class7avg, 't-SC-m' : class8avg}\n",
    "classAvgs = pd.DataFrame(data = classAvgData)\n",
    "classAvgs"
   ]
  },
  {
   "cell_type": "code",
   "execution_count": 30,
   "metadata": {},
   "outputs": [
    {
     "data": {
      "image/png": "[encoded data removed]",
      "text/plain": [
       "<Figure size 432x288 with 1 Axes>"
      ]
     },
     "metadata": {
      "needs_background": "light"
     },
     "output_type": "display_data"
    }
   ],
   "source": [
    "row = classAvgs.iloc[0]\n",
    "row.plot(kind='bar', title = 'Average expression levels of protein ITSN1_N for each class of Mice')\n",
    "plt.show()"
   ]
  },
  {
   "cell_type": "code",
   "execution_count": 31,
   "metadata": {},
   "outputs": [
    {
     "data": {
      "text/html": [
       "<div>\n",
       "<style scoped>\n",
       "    .dataframe tbody tr th:only-of-type {\n",
       "        vertical-align: middle;\n",
       "    }\n",
       "\n",
       "    .dataframe tbody tr th {\n",
       "        vertical-align: top;\n",
       "    }\n",
       "\n",
       "    .dataframe thead th {\n",
       "        text-align: right;\n",
       "    }\n",
       "</style>\n",
       "<table border=\"1\" class=\"dataframe\">\n",
       "  <thead>\n",
       "    <tr style=\"text-align: right;\">\n",
       "      <th></th>\n",
       "      <th>c-CS-s</th>\n",
       "      <th>c-CS-m</th>\n",
       "      <th>c-SC-s</th>\n",
       "      <th>c-SC-m</th>\n",
       "      <th>t-CS-s</th>\n",
       "      <th>t-CS-m</th>\n",
       "      <th>t-SC-s</th>\n",
       "      <th>t-SC-m</th>\n",
       "    </tr>\n",
       "  </thead>\n",
       "  <tbody>\n",
       "    <tr>\n",
       "      <th>BDNF_N</th>\n",
       "      <td>0.342315</td>\n",
       "      <td>0.339217</td>\n",
       "      <td>0.313393</td>\n",
       "      <td>0.290946</td>\n",
       "      <td>0.30546</td>\n",
       "      <td>0.312732</td>\n",
       "      <td>0.325586</td>\n",
       "      <td>0.321063</td>\n",
       "    </tr>\n",
       "  </tbody>\n",
       "</table>\n",
       "</div>"
      ],
      "text/plain": [
       "          c-CS-s    c-CS-m    c-SC-s    c-SC-m   t-CS-s    t-CS-m    t-SC-s  \\\n",
       "BDNF_N  0.342315  0.339217  0.313393  0.290946  0.30546  0.312732  0.325586   \n",
       "\n",
       "          t-SC-m  \n",
       "BDNF_N  0.321063  "
      ]
     },
     "execution_count": 31,
     "metadata": {},
     "output_type": "execute_result"
    }
   ],
   "source": [
    "exp3 = mice[['BDNF_N', 'class']]\n",
    "exp3 = exp3[exp3.BDNF_N != 0]\n",
    "\n",
    "exp3class1 = exp3[exp3['class'] == 'c-CS-s']\n",
    "class1avg = exp3class1.mean()\n",
    "\n",
    "exp3class2 = exp3[exp3['class'] == 'c-CS-m']\n",
    "class2avg = exp3class2.mean()\n",
    "\n",
    "exp3class3 = exp3[exp3['class'] == 'c-SC-s']\n",
    "class3avg = exp3class3.mean()\n",
    "\n",
    "exp3class4 = exp3[exp3['class'] == 'c-SC-m']\n",
    "class4avg = exp3class4.mean()\n",
    "\n",
    "exp3class5 = exp3[exp3['class'] == 't-CS-s']\n",
    "class5avg = exp3class5.mean()\n",
    "\n",
    "exp3class6 = exp3[exp3['class'] == 't-CS-m']\n",
    "class6avg = exp3class6.mean()\n",
    "\n",
    "exp3class7 = exp3[exp3['class'] == 't-SC-s']\n",
    "class7avg = exp3class7.mean()\n",
    "\n",
    "exp3class8 = exp3[exp3['class'] == 't-SC-m']\n",
    "class8avg = exp3class8.mean()\n",
    "\n",
    "classAvgData = {'c-CS-s' : class1avg, 'c-CS-m' : class2avg, 'c-SC-s' : class3avg, 'c-SC-m' : class4avg\n",
    "               ,'t-CS-s' : class5avg, 't-CS-m' : class6avg, 't-SC-s' : class7avg, 't-SC-m' : class8avg}\n",
    "classAvgs = pd.DataFrame(data = classAvgData)\n",
    "classAvgs\n"
   ]
  },
  {
   "cell_type": "code",
   "execution_count": 32,
   "metadata": {},
   "outputs": [
    {
     "data": {
      "image/png": "[encoded data removed]",
      "text/plain": [
       "<Figure size 432x288 with 1 Axes>"
      ]
     },
     "metadata": {
      "needs_background": "light"
     },
     "output_type": "display_data"
    }
   ],
   "source": [
    "row = classAvgs.iloc[0]\n",
    "row.plot(kind='bar', title = 'Average expression levels of protein BDNF_N for each class of Mice')\n",
    "plt.show()"
   ]
  },
  {
   "cell_type": "code",
   "execution_count": 33,
   "metadata": {},
   "outputs": [
    {
     "data": {
      "text/html": [
       "<div>\n",
       "<style scoped>\n",
       "    .dataframe tbody tr th:only-of-type {\n",
       "        vertical-align: middle;\n",
       "    }\n",
       "\n",
       "    .dataframe tbody tr th {\n",
       "        vertical-align: top;\n",
       "    }\n",
       "\n",
       "    .dataframe thead th {\n",
       "        text-align: right;\n",
       "    }\n",
       "</style>\n",
       "<table border=\"1\" class=\"dataframe\">\n",
       "  <thead>\n",
       "    <tr style=\"text-align: right;\">\n",
       "      <th></th>\n",
       "      <th>c-CS-s</th>\n",
       "      <th>c-CS-m</th>\n",
       "      <th>c-SC-s</th>\n",
       "      <th>c-SC-m</th>\n",
       "      <th>t-CS-s</th>\n",
       "      <th>t-CS-m</th>\n",
       "      <th>t-SC-s</th>\n",
       "      <th>t-SC-m</th>\n",
       "    </tr>\n",
       "  </thead>\n",
       "  <tbody>\n",
       "    <tr>\n",
       "      <th>NR1_N</th>\n",
       "      <td>2.417809</td>\n",
       "      <td>2.381749</td>\n",
       "      <td>2.404974</td>\n",
       "      <td>2.145633</td>\n",
       "      <td>2.184606</td>\n",
       "      <td>2.196541</td>\n",
       "      <td>2.248742</td>\n",
       "      <td>2.379446</td>\n",
       "    </tr>\n",
       "  </tbody>\n",
       "</table>\n",
       "</div>"
      ],
      "text/plain": [
       "         c-CS-s    c-CS-m    c-SC-s    c-SC-m    t-CS-s    t-CS-m    t-SC-s  \\\n",
       "NR1_N  2.417809  2.381749  2.404974  2.145633  2.184606  2.196541  2.248742   \n",
       "\n",
       "         t-SC-m  \n",
       "NR1_N  2.379446  "
      ]
     },
     "execution_count": 33,
     "metadata": {},
     "output_type": "execute_result"
    }
   ],
   "source": [
    "exp4 = mice[['NR1_N', 'class']]\n",
    "exp4 = exp4[exp4.NR1_N != 0]\n",
    "\n",
    "exp4class1 = exp4[exp4['class'] == 'c-CS-s']\n",
    "class1avg = exp4class1.mean()\n",
    "\n",
    "exp4class2 = exp4[exp4['class'] == 'c-CS-m']\n",
    "class2avg = exp4class2.mean()\n",
    "\n",
    "exp4class3 = exp4[exp4['class'] == 'c-SC-s']\n",
    "class3avg = exp4class3.mean()\n",
    "\n",
    "exp4class4 = exp4[exp4['class'] == 'c-SC-m']\n",
    "class4avg = exp4class4.mean()\n",
    "\n",
    "exp4class5 = exp4[exp4['class'] == 't-CS-s']\n",
    "class5avg = exp4class5.mean()\n",
    "\n",
    "exp4class6 = exp4[exp4['class'] == 't-CS-m']\n",
    "class6avg = exp4class6.mean()\n",
    "\n",
    "exp4class7 = exp4[exp4['class'] == 't-SC-s']\n",
    "class7avg = exp4class7.mean()\n",
    "\n",
    "exp4class8 = exp4[exp4['class'] == 't-SC-m']\n",
    "class8avg = exp4class8.mean()\n",
    "\n",
    "classAvgData = {'c-CS-s' : class1avg, 'c-CS-m' : class2avg, 'c-SC-s' : class3avg, 'c-SC-m' : class4avg\n",
    "               ,'t-CS-s' : class5avg, 't-CS-m' : class6avg, 't-SC-s' : class7avg, 't-SC-m' : class8avg}\n",
    "classAvgs = pd.DataFrame(data = classAvgData)\n",
    "classAvgs\n"
   ]
  },
  {
   "cell_type": "code",
   "execution_count": 34,
   "metadata": {},
   "outputs": [
    {
     "data": {
      "image/png": "[encoded data removed]",
      "text/plain": [
       "<Figure size 432x288 with 1 Axes>"
      ]
     },
     "metadata": {
      "needs_background": "light"
     },
     "output_type": "display_data"
    }
   ],
   "source": [
    "row = classAvgs.iloc[0]\n",
    "row.plot(kind='bar', title = 'Average expression levels of protein NR1_N for each class of Mice')\n",
    "plt.show()"
   ]
  },
  {
   "cell_type": "code",
   "execution_count": 35,
   "metadata": {},
   "outputs": [
    {
     "data": {
      "text/html": [
       "<div>\n",
       "<style scoped>\n",
       "    .dataframe tbody tr th:only-of-type {\n",
       "        vertical-align: middle;\n",
       "    }\n",
       "\n",
       "    .dataframe tbody tr th {\n",
       "        vertical-align: top;\n",
       "    }\n",
       "\n",
       "    .dataframe thead th {\n",
       "        text-align: right;\n",
       "    }\n",
       "</style>\n",
       "<table border=\"1\" class=\"dataframe\">\n",
       "  <thead>\n",
       "    <tr style=\"text-align: right;\">\n",
       "      <th></th>\n",
       "      <th>c-CS-s</th>\n",
       "      <th>c-CS-m</th>\n",
       "      <th>c-SC-s</th>\n",
       "      <th>c-SC-m</th>\n",
       "      <th>t-CS-s</th>\n",
       "      <th>t-CS-m</th>\n",
       "      <th>t-SC-s</th>\n",
       "      <th>t-SC-m</th>\n",
       "    </tr>\n",
       "  </thead>\n",
       "  <tbody>\n",
       "    <tr>\n",
       "      <th>NR2A_N</th>\n",
       "      <td>4.280077</td>\n",
       "      <td>4.30854</td>\n",
       "      <td>3.913096</td>\n",
       "      <td>3.459416</td>\n",
       "      <td>3.514839</td>\n",
       "      <td>3.56596</td>\n",
       "      <td>3.565093</td>\n",
       "      <td>4.056223</td>\n",
       "    </tr>\n",
       "  </tbody>\n",
       "</table>\n",
       "</div>"
      ],
      "text/plain": [
       "          c-CS-s   c-CS-m    c-SC-s    c-SC-m    t-CS-s   t-CS-m    t-SC-s  \\\n",
       "NR2A_N  4.280077  4.30854  3.913096  3.459416  3.514839  3.56596  3.565093   \n",
       "\n",
       "          t-SC-m  \n",
       "NR2A_N  4.056223  "
      ]
     },
     "execution_count": 35,
     "metadata": {},
     "output_type": "execute_result"
    }
   ],
   "source": [
    "exp5 = mice[['NR2A_N', 'class']]\n",
    "exp5 = exp5[exp5.NR2A_N != 0]\n",
    "\n",
    "exp5class1 = exp5[exp5['class'] == 'c-CS-s']\n",
    "class1avg = exp5class1.mean()\n",
    "\n",
    "exp5class2 = exp5[exp5['class'] == 'c-CS-m']\n",
    "class2avg = exp5class2.mean()\n",
    "\n",
    "exp5class3 = exp5[exp5['class'] == 'c-SC-s']\n",
    "class3avg = exp5class3.mean()\n",
    "\n",
    "exp5class4 = exp5[exp5['class'] == 'c-SC-m']\n",
    "class4avg = exp5class4.mean()\n",
    "\n",
    "exp5class5 = exp5[exp5['class'] == 't-CS-s']\n",
    "class5avg = exp5class5.mean()\n",
    "\n",
    "exp5class6 = exp5[exp5['class'] == 't-CS-m']\n",
    "class6avg = exp5class6.mean()\n",
    "\n",
    "exp5class7 = exp5[exp5['class'] == 't-SC-s']\n",
    "class7avg = exp5class7.mean()\n",
    "\n",
    "exp5class8 = exp5[exp5['class'] == 't-SC-m']\n",
    "class8avg = exp5class8.mean()\n",
    "\n",
    "classAvgData = {'c-CS-s' : class1avg, 'c-CS-m' : class2avg, 'c-SC-s' : class3avg, 'c-SC-m' : class4avg\n",
    "               ,'t-CS-s' : class5avg, 't-CS-m' : class6avg, 't-SC-s' : class7avg, 't-SC-m' : class8avg}\n",
    "classAvgs = pd.DataFrame(data = classAvgData)\n",
    "classAvgs"
   ]
  },
  {
   "cell_type": "code",
   "execution_count": 36,
   "metadata": {},
   "outputs": [
    {
     "data": {
      "image/png": "[encoded data removed]",
      "text/plain": [
       "<Figure size 432x288 with 1 Axes>"
      ]
     },
     "metadata": {
      "needs_background": "light"
     },
     "output_type": "display_data"
    }
   ],
   "source": [
    "row = classAvgs.iloc[0]\n",
    "row.plot(kind='bar', title = 'Average expression levels of protein NR2A_N for each class of Mice')\n",
    "plt.show()"
   ]
  },
  {
   "cell_type": "code",
   "execution_count": 37,
   "metadata": {},
   "outputs": [
    {
     "data": {
      "text/html": [
       "<div>\n",
       "<style scoped>\n",
       "    .dataframe tbody tr th:only-of-type {\n",
       "        vertical-align: middle;\n",
       "    }\n",
       "\n",
       "    .dataframe tbody tr th {\n",
       "        vertical-align: top;\n",
       "    }\n",
       "\n",
       "    .dataframe thead th {\n",
       "        text-align: right;\n",
       "    }\n",
       "</style>\n",
       "<table border=\"1\" class=\"dataframe\">\n",
       "  <thead>\n",
       "    <tr style=\"text-align: right;\">\n",
       "      <th></th>\n",
       "      <th>c-CS-s</th>\n",
       "      <th>c-CS-m</th>\n",
       "      <th>c-SC-s</th>\n",
       "      <th>c-SC-m</th>\n",
       "      <th>t-CS-s</th>\n",
       "      <th>t-CS-m</th>\n",
       "      <th>t-SC-s</th>\n",
       "      <th>t-SC-m</th>\n",
       "    </tr>\n",
       "  </thead>\n",
       "  <tbody>\n",
       "    <tr>\n",
       "      <th>pAKT_N</th>\n",
       "      <td>0.212423</td>\n",
       "      <td>0.229932</td>\n",
       "      <td>0.233368</td>\n",
       "      <td>0.241253</td>\n",
       "      <td>0.214466</td>\n",
       "      <td>0.213621</td>\n",
       "      <td>0.246759</td>\n",
       "      <td>0.269131</td>\n",
       "    </tr>\n",
       "  </tbody>\n",
       "</table>\n",
       "</div>"
      ],
      "text/plain": [
       "          c-CS-s    c-CS-m    c-SC-s    c-SC-m    t-CS-s    t-CS-m    t-SC-s  \\\n",
       "pAKT_N  0.212423  0.229932  0.233368  0.241253  0.214466  0.213621  0.246759   \n",
       "\n",
       "          t-SC-m  \n",
       "pAKT_N  0.269131  "
      ]
     },
     "execution_count": 37,
     "metadata": {},
     "output_type": "execute_result"
    }
   ],
   "source": [
    "exp6 = mice[['pAKT_N', 'class']]\n",
    "exp6 = exp6[exp6.pAKT_N != 0]\n",
    "\n",
    "exp6class1 = exp6[exp6['class'] == 'c-CS-s']\n",
    "class1avg = exp6class1.mean()\n",
    "\n",
    "exp6class2 = exp6[exp6['class'] == 'c-CS-m']\n",
    "class2avg = exp6class2.mean()\n",
    "\n",
    "exp6class3 = exp6[exp6['class'] == 'c-SC-s']\n",
    "class3avg = exp6class3.mean()\n",
    "\n",
    "exp6class4 = exp6[exp6['class'] == 'c-SC-m']\n",
    "class4avg = exp6class4.mean()\n",
    "\n",
    "exp6class5 = exp6[exp6['class'] == 't-CS-s']\n",
    "class5avg = exp6class5.mean()\n",
    "\n",
    "exp6class6 = exp6[exp6['class'] == 't-CS-m']\n",
    "class6avg = exp6class6.mean()\n",
    "\n",
    "exp6class7 = exp6[exp6['class'] == 't-SC-s']\n",
    "class7avg = exp6class7.mean()\n",
    "\n",
    "exp6class8 = exp6[exp6['class'] == 't-SC-m']\n",
    "class8avg = exp6class8.mean()\n",
    "\n",
    "classAvgData = {'c-CS-s' : class1avg, 'c-CS-m' : class2avg, 'c-SC-s' : class3avg, 'c-SC-m' : class4avg\n",
    "               ,'t-CS-s' : class5avg, 't-CS-m' : class6avg, 't-SC-s' : class7avg, 't-SC-m' : class8avg}\n",
    "classAvgs = pd.DataFrame(data = classAvgData)\n",
    "classAvgs"
   ]
  },
  {
   "cell_type": "code",
   "execution_count": 38,
   "metadata": {},
   "outputs": [
    {
     "data": {
      "image/png": "[encoded data removed]",
      "text/plain": [
       "<Figure size 432x288 with 1 Axes>"
      ]
     },
     "metadata": {
      "needs_background": "light"
     },
     "output_type": "display_data"
    }
   ],
   "source": [
    "row = classAvgs.iloc[0]\n",
    "row.plot(kind='bar', title = 'Average expression levels of protein pAKT_N for each class of Mice')\n",
    "plt.show()"
   ]
  },
  {
   "cell_type": "code",
   "execution_count": 39,
   "metadata": {},
   "outputs": [
    {
     "data": {
      "text/html": [
       "<div>\n",
       "<style scoped>\n",
       "    .dataframe tbody tr th:only-of-type {\n",
       "        vertical-align: middle;\n",
       "    }\n",
       "\n",
       "    .dataframe tbody tr th {\n",
       "        vertical-align: top;\n",
       "    }\n",
       "\n",
       "    .dataframe thead th {\n",
       "        text-align: right;\n",
       "    }\n",
       "</style>\n",
       "<table border=\"1\" class=\"dataframe\">\n",
       "  <thead>\n",
       "    <tr style=\"text-align: right;\">\n",
       "      <th></th>\n",
       "      <th>c-CS-s</th>\n",
       "      <th>c-CS-m</th>\n",
       "      <th>c-SC-s</th>\n",
       "      <th>c-SC-m</th>\n",
       "      <th>t-CS-s</th>\n",
       "      <th>t-CS-m</th>\n",
       "      <th>t-SC-s</th>\n",
       "      <th>t-SC-m</th>\n",
       "    </tr>\n",
       "  </thead>\n",
       "  <tbody>\n",
       "    <tr>\n",
       "      <th>pBRAF_N</th>\n",
       "      <td>0.168356</td>\n",
       "      <td>0.182211</td>\n",
       "      <td>0.184975</td>\n",
       "      <td>0.189547</td>\n",
       "      <td>0.164795</td>\n",
       "      <td>0.173956</td>\n",
       "      <td>0.185318</td>\n",
       "      <td>0.201007</td>\n",
       "    </tr>\n",
       "  </tbody>\n",
       "</table>\n",
       "</div>"
      ],
      "text/plain": [
       "           c-CS-s    c-CS-m    c-SC-s    c-SC-m    t-CS-s    t-CS-m    t-SC-s  \\\n",
       "pBRAF_N  0.168356  0.182211  0.184975  0.189547  0.164795  0.173956  0.185318   \n",
       "\n",
       "           t-SC-m  \n",
       "pBRAF_N  0.201007  "
      ]
     },
     "execution_count": 39,
     "metadata": {},
     "output_type": "execute_result"
    }
   ],
   "source": [
    "exp7 = mice[['pBRAF_N', 'class']]\n",
    "exp7 = exp7[exp7.pBRAF_N != 0]\n",
    "\n",
    "exp7class1 = exp7[exp7['class'] == 'c-CS-s']\n",
    "class1avg = exp7class1.mean()\n",
    "\n",
    "exp7class2 = exp7[exp7['class'] == 'c-CS-m']\n",
    "class2avg = exp7class2.mean()\n",
    "\n",
    "exp7class3 = exp7[exp7['class'] == 'c-SC-s']\n",
    "class3avg = exp7class3.mean()\n",
    "\n",
    "exp7class4 = exp7[exp7['class'] == 'c-SC-m']\n",
    "class4avg = exp7class4.mean()\n",
    "\n",
    "exp7class5 = exp7[exp7['class'] == 't-CS-s']\n",
    "class5avg = exp7class5.mean()\n",
    "\n",
    "exp7class6 = exp7[exp7['class'] == 't-CS-m']\n",
    "class6avg = exp7class6.mean()\n",
    "\n",
    "exp7class7 = exp7[exp7['class'] == 't-SC-s']\n",
    "class7avg = exp7class7.mean()\n",
    "\n",
    "exp7class8 = exp7[exp7['class'] == 't-SC-m']\n",
    "class8avg = exp7class8.mean()\n",
    "\n",
    "classAvgData = {'c-CS-s' : class1avg, 'c-CS-m' : class2avg, 'c-SC-s' : class3avg, 'c-SC-m' : class4avg\n",
    "               ,'t-CS-s' : class5avg, 't-CS-m' : class6avg, 't-SC-s' : class7avg, 't-SC-m' : class8avg}\n",
    "classAvgs = pd.DataFrame(data = classAvgData)\n",
    "classAvgs"
   ]
  },
  {
   "cell_type": "code",
   "execution_count": 40,
   "metadata": {},
   "outputs": [
    {
     "data": {
      "image/png": "[encoded data removed]",
      "text/plain": [
       "<Figure size 432x288 with 1 Axes>"
      ]
     },
     "metadata": {
      "needs_background": "light"
     },
     "output_type": "display_data"
    }
   ],
   "source": [
    "row = classAvgs.iloc[0]\n",
    "row.plot(kind='bar', title = 'Average expression levels of protein pBRAF_N for each class of Mice')\n",
    "plt.show()"
   ]
  },
  {
   "cell_type": "code",
   "execution_count": 41,
   "metadata": {},
   "outputs": [
    {
     "data": {
      "text/html": [
       "<div>\n",
       "<style scoped>\n",
       "    .dataframe tbody tr th:only-of-type {\n",
       "        vertical-align: middle;\n",
       "    }\n",
       "\n",
       "    .dataframe tbody tr th {\n",
       "        vertical-align: top;\n",
       "    }\n",
       "\n",
       "    .dataframe thead th {\n",
       "        text-align: right;\n",
       "    }\n",
       "</style>\n",
       "<table border=\"1\" class=\"dataframe\">\n",
       "  <thead>\n",
       "    <tr style=\"text-align: right;\">\n",
       "      <th></th>\n",
       "      <th>c-CS-s</th>\n",
       "      <th>c-CS-m</th>\n",
       "      <th>c-SC-s</th>\n",
       "      <th>c-SC-m</th>\n",
       "      <th>t-CS-s</th>\n",
       "      <th>t-CS-m</th>\n",
       "      <th>t-SC-s</th>\n",
       "      <th>t-SC-m</th>\n",
       "    </tr>\n",
       "  </thead>\n",
       "  <tbody>\n",
       "    <tr>\n",
       "      <th>pCAMKII_N</th>\n",
       "      <td>2.935576</td>\n",
       "      <td>2.916187</td>\n",
       "      <td>3.361288</td>\n",
       "      <td>4.736327</td>\n",
       "      <td>2.488902</td>\n",
       "      <td>3.121801</td>\n",
       "      <td>4.176555</td>\n",
       "      <td>4.277257</td>\n",
       "    </tr>\n",
       "  </tbody>\n",
       "</table>\n",
       "</div>"
      ],
      "text/plain": [
       "             c-CS-s    c-CS-m    c-SC-s    c-SC-m    t-CS-s    t-CS-m  \\\n",
       "pCAMKII_N  2.935576  2.916187  3.361288  4.736327  2.488902  3.121801   \n",
       "\n",
       "             t-SC-s    t-SC-m  \n",
       "pCAMKII_N  4.176555  4.277257  "
      ]
     },
     "execution_count": 41,
     "metadata": {},
     "output_type": "execute_result"
    }
   ],
   "source": [
    "exp8 = mice[['pCAMKII_N', 'class']]\n",
    "exp8 = exp8[exp8.pCAMKII_N != 0]\n",
    "\n",
    "exp8class1 = exp8[exp8['class'] == 'c-CS-s']\n",
    "class1avg = exp8class1.mean()\n",
    "\n",
    "exp8class2 = exp8[exp8['class'] == 'c-CS-m']\n",
    "class2avg = exp8class2.mean()\n",
    "\n",
    "exp8class3 = exp8[exp8['class'] == 'c-SC-s']\n",
    "class3avg = exp8class3.mean()\n",
    "\n",
    "exp8class4 = exp8[exp8['class'] == 'c-SC-m']\n",
    "class4avg = exp8class4.mean()\n",
    "\n",
    "exp8class5 = exp8[exp8['class'] == 't-CS-s']\n",
    "class5avg = exp8class5.mean()\n",
    "\n",
    "exp8class6 = exp8[exp8['class'] == 't-CS-m']\n",
    "class6avg = exp8class6.mean()\n",
    "\n",
    "exp8class7 = exp8[exp8['class'] == 't-SC-s']\n",
    "class7avg = exp8class7.mean()\n",
    "\n",
    "exp8class8 = exp8[exp8['class'] == 't-SC-m']\n",
    "class8avg = exp8class8.mean()\n",
    "\n",
    "classAvgData = {'c-CS-s' : class1avg, 'c-CS-m' : class2avg, 'c-SC-s' : class3avg, 'c-SC-m' : class4avg\n",
    "               ,'t-CS-s' : class5avg, 't-CS-m' : class6avg, 't-SC-s' : class7avg, 't-SC-m' : class8avg}\n",
    "classAvgs = pd.DataFrame(data = classAvgData)\n",
    "classAvgs"
   ]
  },
  {
   "cell_type": "code",
   "execution_count": 42,
   "metadata": {},
   "outputs": [
    {
     "data": {
      "image/png": "[encoded data removed]",
      "text/plain": [
       "<Figure size 432x288 with 1 Axes>"
      ]
     },
     "metadata": {
      "needs_background": "light"
     },
     "output_type": "display_data"
    }
   ],
   "source": [
    "row = classAvgs.iloc[0]\n",
    "row.plot(kind='bar', title = 'Average expression levels of protein pCAMKII_N for each class of Mice')\n",
    "plt.show()"
   ]
  },
  {
   "cell_type": "code",
   "execution_count": 43,
   "metadata": {},
   "outputs": [
    {
     "data": {
      "text/html": [
       "<div>\n",
       "<style scoped>\n",
       "    .dataframe tbody tr th:only-of-type {\n",
       "        vertical-align: middle;\n",
       "    }\n",
       "\n",
       "    .dataframe tbody tr th {\n",
       "        vertical-align: top;\n",
       "    }\n",
       "\n",
       "    .dataframe thead th {\n",
       "        text-align: right;\n",
       "    }\n",
       "</style>\n",
       "<table border=\"1\" class=\"dataframe\">\n",
       "  <thead>\n",
       "    <tr style=\"text-align: right;\">\n",
       "      <th></th>\n",
       "      <th>c-CS-s</th>\n",
       "      <th>c-CS-m</th>\n",
       "      <th>c-SC-s</th>\n",
       "      <th>c-SC-m</th>\n",
       "      <th>t-CS-s</th>\n",
       "      <th>t-CS-m</th>\n",
       "      <th>t-SC-s</th>\n",
       "      <th>t-SC-m</th>\n",
       "    </tr>\n",
       "  </thead>\n",
       "  <tbody>\n",
       "    <tr>\n",
       "      <th>pCREB_N</th>\n",
       "      <td>0.208439</td>\n",
       "      <td>0.198484</td>\n",
       "      <td>0.214949</td>\n",
       "      <td>0.208149</td>\n",
       "      <td>0.210041</td>\n",
       "      <td>0.203395</td>\n",
       "      <td>0.227165</td>\n",
       "      <td>0.231789</td>\n",
       "    </tr>\n",
       "  </tbody>\n",
       "</table>\n",
       "</div>"
      ],
      "text/plain": [
       "           c-CS-s    c-CS-m    c-SC-s    c-SC-m    t-CS-s    t-CS-m    t-SC-s  \\\n",
       "pCREB_N  0.208439  0.198484  0.214949  0.208149  0.210041  0.203395  0.227165   \n",
       "\n",
       "           t-SC-m  \n",
       "pCREB_N  0.231789  "
      ]
     },
     "execution_count": 43,
     "metadata": {},
     "output_type": "execute_result"
    }
   ],
   "source": [
    "exp9 = mice[['pCREB_N', 'class']]\n",
    "exp9 = exp9[exp9.pCREB_N != 0]\n",
    "\n",
    "exp9class1 = exp9[exp9['class'] == 'c-CS-s']\n",
    "class1avg = exp9class1.mean()\n",
    "\n",
    "exp9class2 = exp9[exp9['class'] == 'c-CS-m']\n",
    "class2avg = exp9class2.mean()\n",
    "\n",
    "exp9class3 = exp9[exp9['class'] == 'c-SC-s']\n",
    "class3avg = exp9class3.mean()\n",
    "\n",
    "exp9class4 = exp9[exp9['class'] == 'c-SC-m']\n",
    "class4avg = exp9class4.mean()\n",
    "\n",
    "exp9class5 = exp9[exp9['class'] == 't-CS-s']\n",
    "class5avg = exp9class5.mean()\n",
    "\n",
    "exp9class6 = exp9[exp9['class'] == 't-CS-m']\n",
    "class6avg = exp9class6.mean()\n",
    "\n",
    "exp9class7 = exp9[exp9['class'] == 't-SC-s']\n",
    "class7avg = exp9class7.mean()\n",
    "\n",
    "exp9class8 = exp9[exp9['class'] == 't-SC-m']\n",
    "class8avg = exp9class8.mean()\n",
    "\n",
    "classAvgData = {'c-CS-s' : class1avg, 'c-CS-m' : class2avg, 'c-SC-s' : class3avg, 'c-SC-m' : class4avg\n",
    "               ,'t-CS-s' : class5avg, 't-CS-m' : class6avg, 't-SC-s' : class7avg, 't-SC-m' : class8avg}\n",
    "classAvgs = pd.DataFrame(data = classAvgData)\n",
    "classAvgs"
   ]
  },
  {
   "cell_type": "code",
   "execution_count": 44,
   "metadata": {},
   "outputs": [
    {
     "data": {
      "image/png": "[encoded data removed]",
      "text/plain": [
       "<Figure size 432x288 with 1 Axes>"
      ]
     },
     "metadata": {
      "needs_background": "light"
     },
     "output_type": "display_data"
    }
   ],
   "source": [
    "row = classAvgs.iloc[0]\n",
    "row.plot(kind='bar', title = 'Average expression levels of protein pCREB_N for each class of Mice')\n",
    "plt.show()"
   ]
  },
  {
   "cell_type": "code",
   "execution_count": 45,
   "metadata": {},
   "outputs": [
    {
     "data": {
      "text/html": [
       "<div>\n",
       "<style scoped>\n",
       "    .dataframe tbody tr th:only-of-type {\n",
       "        vertical-align: middle;\n",
       "    }\n",
       "\n",
       "    .dataframe tbody tr th {\n",
       "        vertical-align: top;\n",
       "    }\n",
       "\n",
       "    .dataframe thead th {\n",
       "        text-align: right;\n",
       "    }\n",
       "</style>\n",
       "<table border=\"1\" class=\"dataframe\">\n",
       "  <thead>\n",
       "    <tr style=\"text-align: right;\">\n",
       "      <th></th>\n",
       "      <th>c-CS-s</th>\n",
       "      <th>c-CS-m</th>\n",
       "      <th>c-SC-s</th>\n",
       "      <th>c-SC-m</th>\n",
       "      <th>t-CS-s</th>\n",
       "      <th>t-CS-m</th>\n",
       "      <th>t-SC-s</th>\n",
       "      <th>t-SC-m</th>\n",
       "    </tr>\n",
       "  </thead>\n",
       "  <tbody>\n",
       "    <tr>\n",
       "      <th>pELK_N</th>\n",
       "      <td>1.686844</td>\n",
       "      <td>1.492318</td>\n",
       "      <td>1.327714</td>\n",
       "      <td>1.278566</td>\n",
       "      <td>1.518302</td>\n",
       "      <td>1.563905</td>\n",
       "      <td>1.20484</td>\n",
       "      <td>1.381516</td>\n",
       "    </tr>\n",
       "  </tbody>\n",
       "</table>\n",
       "</div>"
      ],
      "text/plain": [
       "          c-CS-s    c-CS-m    c-SC-s    c-SC-m    t-CS-s    t-CS-m   t-SC-s  \\\n",
       "pELK_N  1.686844  1.492318  1.327714  1.278566  1.518302  1.563905  1.20484   \n",
       "\n",
       "          t-SC-m  \n",
       "pELK_N  1.381516  "
      ]
     },
     "execution_count": 45,
     "metadata": {},
     "output_type": "execute_result"
    }
   ],
   "source": [
    "exp10 = mice[['pELK_N', 'class']]\n",
    "exp10 = exp10[exp10.pELK_N != 0]\n",
    "\n",
    "exp10class1 = exp10[exp10['class'] == 'c-CS-s']\n",
    "class1avg = exp10class1.mean()\n",
    "\n",
    "exp10class2 = exp10[exp10['class'] == 'c-CS-m']\n",
    "class2avg = exp10class2.mean()\n",
    "\n",
    "exp10class3 = exp10[exp10['class'] == 'c-SC-s']\n",
    "class3avg = exp10class3.mean()\n",
    "\n",
    "exp10class4 = exp10[exp10['class'] == 'c-SC-m']\n",
    "class4avg = exp10class4.mean()\n",
    "\n",
    "exp10class5 = exp10[exp10['class'] == 't-CS-s']\n",
    "class5avg = exp10class5.mean()\n",
    "\n",
    "exp10class6 = exp10[exp10['class'] == 't-CS-m']\n",
    "class6avg = exp10class6.mean()\n",
    "\n",
    "exp10class7 = exp10[exp10['class'] == 't-SC-s']\n",
    "class7avg = exp10class7.mean()\n",
    "\n",
    "exp10class8 = exp10[exp10['class'] == 't-SC-m']\n",
    "class8avg = exp10class8.mean()\n",
    "\n",
    "classAvgData = {'c-CS-s' : class1avg, 'c-CS-m' : class2avg, 'c-SC-s' : class3avg, 'c-SC-m' : class4avg\n",
    "               ,'t-CS-s' : class5avg, 't-CS-m' : class6avg, 't-SC-s' : class7avg, 't-SC-m' : class8avg}\n",
    "classAvgs = pd.DataFrame(data = classAvgData)\n",
    "classAvgs"
   ]
  },
  {
   "cell_type": "code",
   "execution_count": 46,
   "metadata": {},
   "outputs": [
    {
     "data": {
      "image/png": "[encoded data removed]",
      "text/plain": [
       "<Figure size 432x288 with 1 Axes>"
      ]
     },
     "metadata": {
      "needs_background": "light"
     },
     "output_type": "display_data"
    }
   ],
   "source": [
    "row = classAvgs.iloc[0]\n",
    "row.plot(kind='bar', title = 'Average expression levels of protein pELK_N for each class of Mice')\n",
    "plt.show()"
   ]
  },
  {
   "cell_type": "code",
   "execution_count": 47,
   "metadata": {},
   "outputs": [
    {
     "name": "stdout",
     "output_type": "stream",
     "text": [
      "---Task 3: Data Modelling---\n"
     ]
    }
   ],
   "source": [
    "print('---Task 3: Data Modelling---')"
   ]
  },
  {
   "cell_type": "code",
   "execution_count": 48,
   "metadata": {},
   "outputs": [],
   "source": [
    "miceTarget = mice['class']\n",
    "miceData = mice\n",
    "del miceData['MouseID']\n",
    "del miceData['Genotype']\n",
    "del miceData['Treatment']\n",
    "del miceData['Behavior']\n",
    "del miceData['class']"
   ]
  },
  {
   "cell_type": "code",
   "execution_count": 49,
   "metadata": {},
   "outputs": [
    {
     "data": {
      "text/plain": [
       "0       c-CS-m\n",
       "1       c-CS-m\n",
       "2       c-CS-m\n",
       "3       c-CS-m\n",
       "4       c-CS-m\n",
       "         ...  \n",
       "1075    t-SC-s\n",
       "1076    t-SC-s\n",
       "1077    t-SC-s\n",
       "1078    t-SC-s\n",
       "1079    t-SC-s\n",
       "Name: class, Length: 1080, dtype: object"
      ]
     },
     "execution_count": 49,
     "metadata": {},
     "output_type": "execute_result"
    }
   ],
   "source": [
    "miceTarget"
   ]
  },
  {
   "cell_type": "code",
   "execution_count": 50,
   "metadata": {},
   "outputs": [
    {
     "data": {
      "text/plain": [
       "(1080,)"
      ]
     },
     "execution_count": 50,
     "metadata": {},
     "output_type": "execute_result"
    }
   ],
   "source": [
    "miceTarget.shape"
   ]
  },
  {
   "cell_type": "code",
   "execution_count": 51,
   "metadata": {},
   "outputs": [
    {
     "data": {
      "text/html": [
       "<div>\n",
       "<style scoped>\n",
       "    .dataframe tbody tr th:only-of-type {\n",
       "        vertical-align: middle;\n",
       "    }\n",
       "\n",
       "    .dataframe tbody tr th {\n",
       "        vertical-align: top;\n",
       "    }\n",
       "\n",
       "    .dataframe thead th {\n",
       "        text-align: right;\n",
       "    }\n",
       "</style>\n",
       "<table border=\"1\" class=\"dataframe\">\n",
       "  <thead>\n",
       "    <tr style=\"text-align: right;\">\n",
       "      <th></th>\n",
       "      <th>DYRK1A_N</th>\n",
       "      <th>ITSN1_N</th>\n",
       "      <th>BDNF_N</th>\n",
       "      <th>NR1_N</th>\n",
       "      <th>NR2A_N</th>\n",
       "      <th>pAKT_N</th>\n",
       "      <th>pBRAF_N</th>\n",
       "      <th>pCAMKII_N</th>\n",
       "      <th>pCREB_N</th>\n",
       "      <th>pELK_N</th>\n",
       "      <th>...</th>\n",
       "      <th>SHH_N</th>\n",
       "      <th>BAD_N</th>\n",
       "      <th>BCL2_N</th>\n",
       "      <th>pS6_N</th>\n",
       "      <th>pCFOS_N</th>\n",
       "      <th>SYP_N</th>\n",
       "      <th>H3AcK18_N</th>\n",
       "      <th>EGR1_N</th>\n",
       "      <th>H3MeK4_N</th>\n",
       "      <th>CaNA_N</th>\n",
       "    </tr>\n",
       "  </thead>\n",
       "  <tbody>\n",
       "    <tr>\n",
       "      <th>0</th>\n",
       "      <td>0.503644</td>\n",
       "      <td>0.747193</td>\n",
       "      <td>0.430175</td>\n",
       "      <td>2.816329</td>\n",
       "      <td>5.990152</td>\n",
       "      <td>0.218830</td>\n",
       "      <td>0.177565</td>\n",
       "      <td>2.373744</td>\n",
       "      <td>0.232224</td>\n",
       "      <td>1.750936</td>\n",
       "      <td>...</td>\n",
       "      <td>0.188852</td>\n",
       "      <td>0.122652</td>\n",
       "      <td>0.0</td>\n",
       "      <td>0.106305</td>\n",
       "      <td>0.108336</td>\n",
       "      <td>0.427099</td>\n",
       "      <td>0.114783</td>\n",
       "      <td>0.131790</td>\n",
       "      <td>0.128186</td>\n",
       "      <td>1.675652</td>\n",
       "    </tr>\n",
       "    <tr>\n",
       "      <th>1</th>\n",
       "      <td>0.514617</td>\n",
       "      <td>0.689064</td>\n",
       "      <td>0.411770</td>\n",
       "      <td>2.789514</td>\n",
       "      <td>5.685038</td>\n",
       "      <td>0.211636</td>\n",
       "      <td>0.172817</td>\n",
       "      <td>2.292150</td>\n",
       "      <td>0.226972</td>\n",
       "      <td>1.596377</td>\n",
       "      <td>...</td>\n",
       "      <td>0.200404</td>\n",
       "      <td>0.116682</td>\n",
       "      <td>0.0</td>\n",
       "      <td>0.106592</td>\n",
       "      <td>0.104315</td>\n",
       "      <td>0.441581</td>\n",
       "      <td>0.111974</td>\n",
       "      <td>0.135103</td>\n",
       "      <td>0.131119</td>\n",
       "      <td>1.743610</td>\n",
       "    </tr>\n",
       "    <tr>\n",
       "      <th>2</th>\n",
       "      <td>0.509183</td>\n",
       "      <td>0.730247</td>\n",
       "      <td>0.418309</td>\n",
       "      <td>2.687201</td>\n",
       "      <td>5.622059</td>\n",
       "      <td>0.209011</td>\n",
       "      <td>0.175722</td>\n",
       "      <td>2.283337</td>\n",
       "      <td>0.230247</td>\n",
       "      <td>1.561316</td>\n",
       "      <td>...</td>\n",
       "      <td>0.193685</td>\n",
       "      <td>0.118508</td>\n",
       "      <td>0.0</td>\n",
       "      <td>0.108303</td>\n",
       "      <td>0.106219</td>\n",
       "      <td>0.435777</td>\n",
       "      <td>0.111883</td>\n",
       "      <td>0.133362</td>\n",
       "      <td>0.127431</td>\n",
       "      <td>1.926427</td>\n",
       "    </tr>\n",
       "    <tr>\n",
       "      <th>3</th>\n",
       "      <td>0.442107</td>\n",
       "      <td>0.617076</td>\n",
       "      <td>0.358626</td>\n",
       "      <td>2.466947</td>\n",
       "      <td>4.979503</td>\n",
       "      <td>0.222886</td>\n",
       "      <td>0.176463</td>\n",
       "      <td>2.152301</td>\n",
       "      <td>0.207004</td>\n",
       "      <td>1.595086</td>\n",
       "      <td>...</td>\n",
       "      <td>0.192112</td>\n",
       "      <td>0.132781</td>\n",
       "      <td>0.0</td>\n",
       "      <td>0.103184</td>\n",
       "      <td>0.111262</td>\n",
       "      <td>0.391691</td>\n",
       "      <td>0.130405</td>\n",
       "      <td>0.147444</td>\n",
       "      <td>0.146901</td>\n",
       "      <td>1.700563</td>\n",
       "    </tr>\n",
       "    <tr>\n",
       "      <th>4</th>\n",
       "      <td>0.434940</td>\n",
       "      <td>0.617430</td>\n",
       "      <td>0.358802</td>\n",
       "      <td>2.365785</td>\n",
       "      <td>4.718679</td>\n",
       "      <td>0.213106</td>\n",
       "      <td>0.173627</td>\n",
       "      <td>2.134014</td>\n",
       "      <td>0.192158</td>\n",
       "      <td>1.504230</td>\n",
       "      <td>...</td>\n",
       "      <td>0.205604</td>\n",
       "      <td>0.129954</td>\n",
       "      <td>0.0</td>\n",
       "      <td>0.104784</td>\n",
       "      <td>0.110694</td>\n",
       "      <td>0.434154</td>\n",
       "      <td>0.118481</td>\n",
       "      <td>0.140314</td>\n",
       "      <td>0.148380</td>\n",
       "      <td>1.839730</td>\n",
       "    </tr>\n",
       "    <tr>\n",
       "      <th>...</th>\n",
       "      <td>...</td>\n",
       "      <td>...</td>\n",
       "      <td>...</td>\n",
       "      <td>...</td>\n",
       "      <td>...</td>\n",
       "      <td>...</td>\n",
       "      <td>...</td>\n",
       "      <td>...</td>\n",
       "      <td>...</td>\n",
       "      <td>...</td>\n",
       "      <td>...</td>\n",
       "      <td>...</td>\n",
       "      <td>...</td>\n",
       "      <td>...</td>\n",
       "      <td>...</td>\n",
       "      <td>...</td>\n",
       "      <td>...</td>\n",
       "      <td>...</td>\n",
       "      <td>...</td>\n",
       "      <td>...</td>\n",
       "      <td>...</td>\n",
       "    </tr>\n",
       "    <tr>\n",
       "      <th>1075</th>\n",
       "      <td>0.254860</td>\n",
       "      <td>0.463591</td>\n",
       "      <td>0.254860</td>\n",
       "      <td>2.092082</td>\n",
       "      <td>2.600035</td>\n",
       "      <td>0.211736</td>\n",
       "      <td>0.171262</td>\n",
       "      <td>2.483740</td>\n",
       "      <td>0.207317</td>\n",
       "      <td>1.057971</td>\n",
       "      <td>...</td>\n",
       "      <td>0.275547</td>\n",
       "      <td>0.190483</td>\n",
       "      <td>0.0</td>\n",
       "      <td>0.115806</td>\n",
       "      <td>0.183324</td>\n",
       "      <td>0.374088</td>\n",
       "      <td>0.318782</td>\n",
       "      <td>0.204660</td>\n",
       "      <td>0.328327</td>\n",
       "      <td>1.364823</td>\n",
       "    </tr>\n",
       "    <tr>\n",
       "      <th>1076</th>\n",
       "      <td>0.272198</td>\n",
       "      <td>0.474163</td>\n",
       "      <td>0.251638</td>\n",
       "      <td>2.161390</td>\n",
       "      <td>2.801492</td>\n",
       "      <td>0.251274</td>\n",
       "      <td>0.182496</td>\n",
       "      <td>2.512737</td>\n",
       "      <td>0.216339</td>\n",
       "      <td>1.081150</td>\n",
       "      <td>...</td>\n",
       "      <td>0.283207</td>\n",
       "      <td>0.190463</td>\n",
       "      <td>0.0</td>\n",
       "      <td>0.113614</td>\n",
       "      <td>0.175674</td>\n",
       "      <td>0.375259</td>\n",
       "      <td>0.325639</td>\n",
       "      <td>0.200415</td>\n",
       "      <td>0.293435</td>\n",
       "      <td>1.364478</td>\n",
       "    </tr>\n",
       "    <tr>\n",
       "      <th>1077</th>\n",
       "      <td>0.228700</td>\n",
       "      <td>0.395179</td>\n",
       "      <td>0.234118</td>\n",
       "      <td>1.733184</td>\n",
       "      <td>2.220852</td>\n",
       "      <td>0.220665</td>\n",
       "      <td>0.161435</td>\n",
       "      <td>1.989723</td>\n",
       "      <td>0.185164</td>\n",
       "      <td>0.884342</td>\n",
       "      <td>...</td>\n",
       "      <td>0.290843</td>\n",
       "      <td>0.216682</td>\n",
       "      <td>0.0</td>\n",
       "      <td>0.118948</td>\n",
       "      <td>0.158296</td>\n",
       "      <td>0.422121</td>\n",
       "      <td>0.321306</td>\n",
       "      <td>0.229193</td>\n",
       "      <td>0.355213</td>\n",
       "      <td>1.430825</td>\n",
       "    </tr>\n",
       "    <tr>\n",
       "      <th>1078</th>\n",
       "      <td>0.221242</td>\n",
       "      <td>0.412894</td>\n",
       "      <td>0.243974</td>\n",
       "      <td>1.876347</td>\n",
       "      <td>2.384088</td>\n",
       "      <td>0.208897</td>\n",
       "      <td>0.173623</td>\n",
       "      <td>2.086028</td>\n",
       "      <td>0.192044</td>\n",
       "      <td>0.922595</td>\n",
       "      <td>...</td>\n",
       "      <td>0.306701</td>\n",
       "      <td>0.222263</td>\n",
       "      <td>0.0</td>\n",
       "      <td>0.125295</td>\n",
       "      <td>0.196296</td>\n",
       "      <td>0.397676</td>\n",
       "      <td>0.335936</td>\n",
       "      <td>0.251317</td>\n",
       "      <td>0.365353</td>\n",
       "      <td>1.404031</td>\n",
       "    </tr>\n",
       "    <tr>\n",
       "      <th>1079</th>\n",
       "      <td>0.302626</td>\n",
       "      <td>0.461059</td>\n",
       "      <td>0.256564</td>\n",
       "      <td>2.092790</td>\n",
       "      <td>2.594348</td>\n",
       "      <td>0.251001</td>\n",
       "      <td>0.191811</td>\n",
       "      <td>2.361816</td>\n",
       "      <td>0.223632</td>\n",
       "      <td>1.064085</td>\n",
       "      <td>...</td>\n",
       "      <td>0.292330</td>\n",
       "      <td>0.227606</td>\n",
       "      <td>0.0</td>\n",
       "      <td>0.118899</td>\n",
       "      <td>0.187556</td>\n",
       "      <td>0.420347</td>\n",
       "      <td>0.335062</td>\n",
       "      <td>0.252995</td>\n",
       "      <td>0.365278</td>\n",
       "      <td>1.370999</td>\n",
       "    </tr>\n",
       "  </tbody>\n",
       "</table>\n",
       "<p>1080 rows × 77 columns</p>\n",
       "</div>"
      ],
      "text/plain": [
       "      DYRK1A_N   ITSN1_N    BDNF_N     NR1_N    NR2A_N    pAKT_N   pBRAF_N  \\\n",
       "0     0.503644  0.747193  0.430175  2.816329  5.990152  0.218830  0.177565   \n",
       "1     0.514617  0.689064  0.411770  2.789514  5.685038  0.211636  0.172817   \n",
       "2     0.509183  0.730247  0.418309  2.687201  5.622059  0.209011  0.175722   \n",
       "3     0.442107  0.617076  0.358626  2.466947  4.979503  0.222886  0.176463   \n",
       "4     0.434940  0.617430  0.358802  2.365785  4.718679  0.213106  0.173627   \n",
       "...        ...       ...       ...       ...       ...       ...       ...   \n",
       "1075  0.254860  0.463591  0.254860  2.092082  2.600035  0.211736  0.171262   \n",
       "1076  0.272198  0.474163  0.251638  2.161390  2.801492  0.251274  0.182496   \n",
       "1077  0.228700  0.395179  0.234118  1.733184  2.220852  0.220665  0.161435   \n",
       "1078  0.221242  0.412894  0.243974  1.876347  2.384088  0.208897  0.173623   \n",
       "1079  0.302626  0.461059  0.256564  2.092790  2.594348  0.251001  0.191811   \n",
       "\n",
       "      pCAMKII_N   pCREB_N    pELK_N  ...     SHH_N     BAD_N  BCL2_N  \\\n",
       "0      2.373744  0.232224  1.750936  ...  0.188852  0.122652     0.0   \n",
       "1      2.292150  0.226972  1.596377  ...  0.200404  0.116682     0.0   \n",
       "2      2.283337  0.230247  1.561316  ...  0.193685  0.118508     0.0   \n",
       "3      2.152301  0.207004  1.595086  ...  0.192112  0.132781     0.0   \n",
       "4      2.134014  0.192158  1.504230  ...  0.205604  0.129954     0.0   \n",
       "...         ...       ...       ...  ...       ...       ...     ...   \n",
       "1075   2.483740  0.207317  1.057971  ...  0.275547  0.190483     0.0   \n",
       "1076   2.512737  0.216339  1.081150  ...  0.283207  0.190463     0.0   \n",
       "1077   1.989723  0.185164  0.884342  ...  0.290843  0.216682     0.0   \n",
       "1078   2.086028  0.192044  0.922595  ...  0.306701  0.222263     0.0   \n",
       "1079   2.361816  0.223632  1.064085  ...  0.292330  0.227606     0.0   \n",
       "\n",
       "         pS6_N   pCFOS_N     SYP_N  H3AcK18_N    EGR1_N  H3MeK4_N    CaNA_N  \n",
       "0     0.106305  0.108336  0.427099   0.114783  0.131790  0.128186  1.675652  \n",
       "1     0.106592  0.104315  0.441581   0.111974  0.135103  0.131119  1.743610  \n",
       "2     0.108303  0.106219  0.435777   0.111883  0.133362  0.127431  1.926427  \n",
       "3     0.103184  0.111262  0.391691   0.130405  0.147444  0.146901  1.700563  \n",
       "4     0.104784  0.110694  0.434154   0.118481  0.140314  0.148380  1.839730  \n",
       "...        ...       ...       ...        ...       ...       ...       ...  \n",
       "1075  0.115806  0.183324  0.374088   0.318782  0.204660  0.328327  1.364823  \n",
       "1076  0.113614  0.175674  0.375259   0.325639  0.200415  0.293435  1.364478  \n",
       "1077  0.118948  0.158296  0.422121   0.321306  0.229193  0.355213  1.430825  \n",
       "1078  0.125295  0.196296  0.397676   0.335936  0.251317  0.365353  1.404031  \n",
       "1079  0.118899  0.187556  0.420347   0.335062  0.252995  0.365278  1.370999  \n",
       "\n",
       "[1080 rows x 77 columns]"
      ]
     },
     "execution_count": 51,
     "metadata": {},
     "output_type": "execute_result"
    }
   ],
   "source": [
    "miceData"
   ]
  },
  {
   "cell_type": "code",
   "execution_count": 52,
   "metadata": {},
   "outputs": [
    {
     "data": {
      "text/plain": [
       "(1080, 77)"
      ]
     },
     "execution_count": 52,
     "metadata": {},
     "output_type": "execute_result"
    }
   ],
   "source": [
    "miceData.shape"
   ]
  },
  {
   "cell_type": "code",
   "execution_count": 53,
   "metadata": {},
   "outputs": [],
   "source": [
    "x_train, x_test, y_train, y_test =train_test_split(miceData,miceTarget,test_size=0.5,random_state=4)"
   ]
  },
  {
   "cell_type": "code",
   "execution_count": 54,
   "metadata": {},
   "outputs": [
    {
     "data": {
      "text/html": [
       "<div>\n",
       "<style scoped>\n",
       "    .dataframe tbody tr th:only-of-type {\n",
       "        vertical-align: middle;\n",
       "    }\n",
       "\n",
       "    .dataframe tbody tr th {\n",
       "        vertical-align: top;\n",
       "    }\n",
       "\n",
       "    .dataframe thead th {\n",
       "        text-align: right;\n",
       "    }\n",
       "</style>\n",
       "<table border=\"1\" class=\"dataframe\">\n",
       "  <thead>\n",
       "    <tr style=\"text-align: right;\">\n",
       "      <th></th>\n",
       "      <th>DYRK1A_N</th>\n",
       "      <th>ITSN1_N</th>\n",
       "      <th>BDNF_N</th>\n",
       "      <th>NR1_N</th>\n",
       "      <th>NR2A_N</th>\n",
       "      <th>pAKT_N</th>\n",
       "      <th>pBRAF_N</th>\n",
       "      <th>pCAMKII_N</th>\n",
       "      <th>pCREB_N</th>\n",
       "      <th>pELK_N</th>\n",
       "      <th>...</th>\n",
       "      <th>SHH_N</th>\n",
       "      <th>BAD_N</th>\n",
       "      <th>BCL2_N</th>\n",
       "      <th>pS6_N</th>\n",
       "      <th>pCFOS_N</th>\n",
       "      <th>SYP_N</th>\n",
       "      <th>H3AcK18_N</th>\n",
       "      <th>EGR1_N</th>\n",
       "      <th>H3MeK4_N</th>\n",
       "      <th>CaNA_N</th>\n",
       "    </tr>\n",
       "  </thead>\n",
       "  <tbody>\n",
       "    <tr>\n",
       "      <th>977</th>\n",
       "      <td>0.490756</td>\n",
       "      <td>0.836221</td>\n",
       "      <td>0.376440</td>\n",
       "      <td>2.620559</td>\n",
       "      <td>4.414287</td>\n",
       "      <td>0.250121</td>\n",
       "      <td>0.198529</td>\n",
       "      <td>4.218662</td>\n",
       "      <td>0.259413</td>\n",
       "      <td>1.345659</td>\n",
       "      <td>...</td>\n",
       "      <td>0.217450</td>\n",
       "      <td>0.146624</td>\n",
       "      <td>0.104029</td>\n",
       "      <td>0.122865</td>\n",
       "      <td>0.109052</td>\n",
       "      <td>0.486940</td>\n",
       "      <td>0.154008</td>\n",
       "      <td>0.150241</td>\n",
       "      <td>0.161292</td>\n",
       "      <td>1.453787</td>\n",
       "    </tr>\n",
       "    <tr>\n",
       "      <th>3</th>\n",
       "      <td>0.442107</td>\n",
       "      <td>0.617076</td>\n",
       "      <td>0.358626</td>\n",
       "      <td>2.466947</td>\n",
       "      <td>4.979503</td>\n",
       "      <td>0.222886</td>\n",
       "      <td>0.176463</td>\n",
       "      <td>2.152301</td>\n",
       "      <td>0.207004</td>\n",
       "      <td>1.595086</td>\n",
       "      <td>...</td>\n",
       "      <td>0.192112</td>\n",
       "      <td>0.132781</td>\n",
       "      <td>0.000000</td>\n",
       "      <td>0.103184</td>\n",
       "      <td>0.111262</td>\n",
       "      <td>0.391691</td>\n",
       "      <td>0.130405</td>\n",
       "      <td>0.147444</td>\n",
       "      <td>0.146901</td>\n",
       "      <td>1.700563</td>\n",
       "    </tr>\n",
       "    <tr>\n",
       "      <th>263</th>\n",
       "      <td>0.342356</td>\n",
       "      <td>0.532230</td>\n",
       "      <td>0.276144</td>\n",
       "      <td>1.967478</td>\n",
       "      <td>3.083350</td>\n",
       "      <td>0.219279</td>\n",
       "      <td>0.172152</td>\n",
       "      <td>3.806037</td>\n",
       "      <td>0.173515</td>\n",
       "      <td>1.197079</td>\n",
       "      <td>...</td>\n",
       "      <td>0.270591</td>\n",
       "      <td>0.154232</td>\n",
       "      <td>0.133356</td>\n",
       "      <td>0.119781</td>\n",
       "      <td>0.124344</td>\n",
       "      <td>0.383299</td>\n",
       "      <td>0.129934</td>\n",
       "      <td>0.190167</td>\n",
       "      <td>0.181040</td>\n",
       "      <td>0.974219</td>\n",
       "    </tr>\n",
       "    <tr>\n",
       "      <th>432</th>\n",
       "      <td>0.350444</td>\n",
       "      <td>0.456195</td>\n",
       "      <td>0.356233</td>\n",
       "      <td>1.959475</td>\n",
       "      <td>2.934774</td>\n",
       "      <td>0.290621</td>\n",
       "      <td>0.192590</td>\n",
       "      <td>3.191432</td>\n",
       "      <td>0.255886</td>\n",
       "      <td>1.640679</td>\n",
       "      <td>...</td>\n",
       "      <td>0.232127</td>\n",
       "      <td>0.000000</td>\n",
       "      <td>0.000000</td>\n",
       "      <td>0.108884</td>\n",
       "      <td>0.146874</td>\n",
       "      <td>0.489381</td>\n",
       "      <td>0.000000</td>\n",
       "      <td>0.000000</td>\n",
       "      <td>0.000000</td>\n",
       "      <td>1.421179</td>\n",
       "    </tr>\n",
       "    <tr>\n",
       "      <th>767</th>\n",
       "      <td>0.308938</td>\n",
       "      <td>0.586756</td>\n",
       "      <td>0.397755</td>\n",
       "      <td>2.673014</td>\n",
       "      <td>6.215859</td>\n",
       "      <td>0.299986</td>\n",
       "      <td>0.235612</td>\n",
       "      <td>4.273980</td>\n",
       "      <td>0.268012</td>\n",
       "      <td>1.655677</td>\n",
       "      <td>...</td>\n",
       "      <td>0.199690</td>\n",
       "      <td>0.000000</td>\n",
       "      <td>0.118617</td>\n",
       "      <td>0.139975</td>\n",
       "      <td>0.097702</td>\n",
       "      <td>0.434410</td>\n",
       "      <td>0.156160</td>\n",
       "      <td>0.170054</td>\n",
       "      <td>0.000000</td>\n",
       "      <td>0.887000</td>\n",
       "    </tr>\n",
       "    <tr>\n",
       "      <th>...</th>\n",
       "      <td>...</td>\n",
       "      <td>...</td>\n",
       "      <td>...</td>\n",
       "      <td>...</td>\n",
       "      <td>...</td>\n",
       "      <td>...</td>\n",
       "      <td>...</td>\n",
       "      <td>...</td>\n",
       "      <td>...</td>\n",
       "      <td>...</td>\n",
       "      <td>...</td>\n",
       "      <td>...</td>\n",
       "      <td>...</td>\n",
       "      <td>...</td>\n",
       "      <td>...</td>\n",
       "      <td>...</td>\n",
       "      <td>...</td>\n",
       "      <td>...</td>\n",
       "      <td>...</td>\n",
       "      <td>...</td>\n",
       "      <td>...</td>\n",
       "    </tr>\n",
       "    <tr>\n",
       "      <th>456</th>\n",
       "      <td>0.266933</td>\n",
       "      <td>0.513347</td>\n",
       "      <td>0.338841</td>\n",
       "      <td>2.846741</td>\n",
       "      <td>4.992192</td>\n",
       "      <td>0.261849</td>\n",
       "      <td>0.209007</td>\n",
       "      <td>3.725622</td>\n",
       "      <td>0.240058</td>\n",
       "      <td>1.286726</td>\n",
       "      <td>...</td>\n",
       "      <td>0.207633</td>\n",
       "      <td>0.151628</td>\n",
       "      <td>0.124456</td>\n",
       "      <td>0.134619</td>\n",
       "      <td>0.104750</td>\n",
       "      <td>0.526447</td>\n",
       "      <td>0.116470</td>\n",
       "      <td>0.155569</td>\n",
       "      <td>0.193425</td>\n",
       "      <td>1.377722</td>\n",
       "    </tr>\n",
       "    <tr>\n",
       "      <th>360</th>\n",
       "      <td>2.480316</td>\n",
       "      <td>2.488684</td>\n",
       "      <td>0.437048</td>\n",
       "      <td>3.126094</td>\n",
       "      <td>6.003804</td>\n",
       "      <td>0.209776</td>\n",
       "      <td>0.185337</td>\n",
       "      <td>3.153290</td>\n",
       "      <td>0.236021</td>\n",
       "      <td>4.497337</td>\n",
       "      <td>...</td>\n",
       "      <td>0.203517</td>\n",
       "      <td>0.117520</td>\n",
       "      <td>0.109612</td>\n",
       "      <td>0.114036</td>\n",
       "      <td>0.110552</td>\n",
       "      <td>0.540593</td>\n",
       "      <td>0.000000</td>\n",
       "      <td>0.136711</td>\n",
       "      <td>0.000000</td>\n",
       "      <td>2.009125</td>\n",
       "    </tr>\n",
       "    <tr>\n",
       "      <th>709</th>\n",
       "      <td>0.305026</td>\n",
       "      <td>0.589832</td>\n",
       "      <td>0.302282</td>\n",
       "      <td>2.454650</td>\n",
       "      <td>3.894858</td>\n",
       "      <td>0.252166</td>\n",
       "      <td>0.193241</td>\n",
       "      <td>4.202051</td>\n",
       "      <td>0.239168</td>\n",
       "      <td>1.230647</td>\n",
       "      <td>...</td>\n",
       "      <td>0.202644</td>\n",
       "      <td>0.124567</td>\n",
       "      <td>0.114897</td>\n",
       "      <td>0.138142</td>\n",
       "      <td>0.101943</td>\n",
       "      <td>0.544406</td>\n",
       "      <td>0.431195</td>\n",
       "      <td>0.155798</td>\n",
       "      <td>0.287197</td>\n",
       "      <td>1.268832</td>\n",
       "    </tr>\n",
       "    <tr>\n",
       "      <th>439</th>\n",
       "      <td>0.302761</td>\n",
       "      <td>0.473041</td>\n",
       "      <td>0.322587</td>\n",
       "      <td>2.527886</td>\n",
       "      <td>4.099685</td>\n",
       "      <td>0.242727</td>\n",
       "      <td>0.180656</td>\n",
       "      <td>4.016491</td>\n",
       "      <td>0.197517</td>\n",
       "      <td>1.299055</td>\n",
       "      <td>...</td>\n",
       "      <td>0.251730</td>\n",
       "      <td>0.150038</td>\n",
       "      <td>0.131296</td>\n",
       "      <td>0.132161</td>\n",
       "      <td>0.142253</td>\n",
       "      <td>0.393406</td>\n",
       "      <td>0.144848</td>\n",
       "      <td>0.197616</td>\n",
       "      <td>0.173395</td>\n",
       "      <td>0.983756</td>\n",
       "    </tr>\n",
       "    <tr>\n",
       "      <th>174</th>\n",
       "      <td>0.276746</td>\n",
       "      <td>0.397167</td>\n",
       "      <td>0.304348</td>\n",
       "      <td>2.138984</td>\n",
       "      <td>3.207132</td>\n",
       "      <td>0.277723</td>\n",
       "      <td>0.200782</td>\n",
       "      <td>5.605276</td>\n",
       "      <td>0.206644</td>\n",
       "      <td>1.291891</td>\n",
       "      <td>...</td>\n",
       "      <td>0.218387</td>\n",
       "      <td>0.209367</td>\n",
       "      <td>0.181960</td>\n",
       "      <td>0.131483</td>\n",
       "      <td>0.162359</td>\n",
       "      <td>0.521422</td>\n",
       "      <td>0.206071</td>\n",
       "      <td>0.284649</td>\n",
       "      <td>0.305637</td>\n",
       "      <td>1.025152</td>\n",
       "    </tr>\n",
       "  </tbody>\n",
       "</table>\n",
       "<p>540 rows × 77 columns</p>\n",
       "</div>"
      ],
      "text/plain": [
       "     DYRK1A_N   ITSN1_N    BDNF_N     NR1_N    NR2A_N    pAKT_N   pBRAF_N  \\\n",
       "977  0.490756  0.836221  0.376440  2.620559  4.414287  0.250121  0.198529   \n",
       "3    0.442107  0.617076  0.358626  2.466947  4.979503  0.222886  0.176463   \n",
       "263  0.342356  0.532230  0.276144  1.967478  3.083350  0.219279  0.172152   \n",
       "432  0.350444  0.456195  0.356233  1.959475  2.934774  0.290621  0.192590   \n",
       "767  0.308938  0.586756  0.397755  2.673014  6.215859  0.299986  0.235612   \n",
       "..        ...       ...       ...       ...       ...       ...       ...   \n",
       "456  0.266933  0.513347  0.338841  2.846741  4.992192  0.261849  0.209007   \n",
       "360  2.480316  2.488684  0.437048  3.126094  6.003804  0.209776  0.185337   \n",
       "709  0.305026  0.589832  0.302282  2.454650  3.894858  0.252166  0.193241   \n",
       "439  0.302761  0.473041  0.322587  2.527886  4.099685  0.242727  0.180656   \n",
       "174  0.276746  0.397167  0.304348  2.138984  3.207132  0.277723  0.200782   \n",
       "\n",
       "     pCAMKII_N   pCREB_N    pELK_N  ...     SHH_N     BAD_N    BCL2_N  \\\n",
       "977   4.218662  0.259413  1.345659  ...  0.217450  0.146624  0.104029   \n",
       "3     2.152301  0.207004  1.595086  ...  0.192112  0.132781  0.000000   \n",
       "263   3.806037  0.173515  1.197079  ...  0.270591  0.154232  0.133356   \n",
       "432   3.191432  0.255886  1.640679  ...  0.232127  0.000000  0.000000   \n",
       "767   4.273980  0.268012  1.655677  ...  0.199690  0.000000  0.118617   \n",
       "..         ...       ...       ...  ...       ...       ...       ...   \n",
       "456   3.725622  0.240058  1.286726  ...  0.207633  0.151628  0.124456   \n",
       "360   3.153290  0.236021  4.497337  ...  0.203517  0.117520  0.109612   \n",
       "709   4.202051  0.239168  1.230647  ...  0.202644  0.124567  0.114897   \n",
       "439   4.016491  0.197517  1.299055  ...  0.251730  0.150038  0.131296   \n",
       "174   5.605276  0.206644  1.291891  ...  0.218387  0.209367  0.181960   \n",
       "\n",
       "        pS6_N   pCFOS_N     SYP_N  H3AcK18_N    EGR1_N  H3MeK4_N    CaNA_N  \n",
       "977  0.122865  0.109052  0.486940   0.154008  0.150241  0.161292  1.453787  \n",
       "3    0.103184  0.111262  0.391691   0.130405  0.147444  0.146901  1.700563  \n",
       "263  0.119781  0.124344  0.383299   0.129934  0.190167  0.181040  0.974219  \n",
       "432  0.108884  0.146874  0.489381   0.000000  0.000000  0.000000  1.421179  \n",
       "767  0.139975  0.097702  0.434410   0.156160  0.170054  0.000000  0.887000  \n",
       "..        ...       ...       ...        ...       ...       ...       ...  \n",
       "456  0.134619  0.104750  0.526447   0.116470  0.155569  0.193425  1.377722  \n",
       "360  0.114036  0.110552  0.540593   0.000000  0.136711  0.000000  2.009125  \n",
       "709  0.138142  0.101943  0.544406   0.431195  0.155798  0.287197  1.268832  \n",
       "439  0.132161  0.142253  0.393406   0.144848  0.197616  0.173395  0.983756  \n",
       "174  0.131483  0.162359  0.521422   0.206071  0.284649  0.305637  1.025152  \n",
       "\n",
       "[540 rows x 77 columns]"
      ]
     },
     "execution_count": 54,
     "metadata": {},
     "output_type": "execute_result"
    }
   ],
   "source": [
    "x_train"
   ]
  },
  {
   "cell_type": "code",
   "execution_count": 55,
   "metadata": {},
   "outputs": [
    {
     "data": {
      "text/plain": [
       "(540, 77)"
      ]
     },
     "execution_count": 55,
     "metadata": {},
     "output_type": "execute_result"
    }
   ],
   "source": [
    "x_train.shape"
   ]
  },
  {
   "cell_type": "code",
   "execution_count": 56,
   "metadata": {},
   "outputs": [
    {
     "data": {
      "text/plain": [
       "977    t-SC-s\n",
       "3      c-CS-m\n",
       "263    c-SC-m\n",
       "432    c-CS-s\n",
       "767    t-SC-m\n",
       "        ...  \n",
       "456    c-SC-s\n",
       "360    c-CS-s\n",
       "709    t-SC-m\n",
       "439    c-SC-s\n",
       "174    c-SC-m\n",
       "Name: class, Length: 540, dtype: object"
      ]
     },
     "execution_count": 56,
     "metadata": {},
     "output_type": "execute_result"
    }
   ],
   "source": [
    "y_train"
   ]
  },
  {
   "cell_type": "code",
   "execution_count": 57,
   "metadata": {},
   "outputs": [
    {
     "data": {
      "text/plain": [
       "(540,)"
      ]
     },
     "execution_count": 57,
     "metadata": {},
     "output_type": "execute_result"
    }
   ],
   "source": [
    "y_train.shape"
   ]
  },
  {
   "cell_type": "code",
   "execution_count": 58,
   "metadata": {},
   "outputs": [
    {
     "data": {
      "text/html": [
       "<div>\n",
       "<style scoped>\n",
       "    .dataframe tbody tr th:only-of-type {\n",
       "        vertical-align: middle;\n",
       "    }\n",
       "\n",
       "    .dataframe tbody tr th {\n",
       "        vertical-align: top;\n",
       "    }\n",
       "\n",
       "    .dataframe thead th {\n",
       "        text-align: right;\n",
       "    }\n",
       "</style>\n",
       "<table border=\"1\" class=\"dataframe\">\n",
       "  <thead>\n",
       "    <tr style=\"text-align: right;\">\n",
       "      <th></th>\n",
       "      <th>DYRK1A_N</th>\n",
       "      <th>ITSN1_N</th>\n",
       "      <th>BDNF_N</th>\n",
       "      <th>NR1_N</th>\n",
       "      <th>NR2A_N</th>\n",
       "      <th>pAKT_N</th>\n",
       "      <th>pBRAF_N</th>\n",
       "      <th>pCAMKII_N</th>\n",
       "      <th>pCREB_N</th>\n",
       "      <th>pELK_N</th>\n",
       "      <th>...</th>\n",
       "      <th>SHH_N</th>\n",
       "      <th>BAD_N</th>\n",
       "      <th>BCL2_N</th>\n",
       "      <th>pS6_N</th>\n",
       "      <th>pCFOS_N</th>\n",
       "      <th>SYP_N</th>\n",
       "      <th>H3AcK18_N</th>\n",
       "      <th>EGR1_N</th>\n",
       "      <th>H3MeK4_N</th>\n",
       "      <th>CaNA_N</th>\n",
       "    </tr>\n",
       "  </thead>\n",
       "  <tbody>\n",
       "    <tr>\n",
       "      <th>858</th>\n",
       "      <td>0.425800</td>\n",
       "      <td>0.704007</td>\n",
       "      <td>0.300497</td>\n",
       "      <td>2.129923</td>\n",
       "      <td>3.277630</td>\n",
       "      <td>0.228664</td>\n",
       "      <td>0.170228</td>\n",
       "      <td>4.190900</td>\n",
       "      <td>0.237903</td>\n",
       "      <td>1.234669</td>\n",
       "      <td>...</td>\n",
       "      <td>0.237162</td>\n",
       "      <td>0.167413</td>\n",
       "      <td>0.118092</td>\n",
       "      <td>0.118791</td>\n",
       "      <td>0.111655</td>\n",
       "      <td>0.502519</td>\n",
       "      <td>0.193788</td>\n",
       "      <td>0.162866</td>\n",
       "      <td>0.188051</td>\n",
       "      <td>1.791101</td>\n",
       "    </tr>\n",
       "    <tr>\n",
       "      <th>735</th>\n",
       "      <td>0.330477</td>\n",
       "      <td>0.567582</td>\n",
       "      <td>0.355307</td>\n",
       "      <td>2.735094</td>\n",
       "      <td>4.751005</td>\n",
       "      <td>0.253366</td>\n",
       "      <td>0.206854</td>\n",
       "      <td>3.375590</td>\n",
       "      <td>0.231509</td>\n",
       "      <td>1.768666</td>\n",
       "      <td>...</td>\n",
       "      <td>0.216792</td>\n",
       "      <td>0.000000</td>\n",
       "      <td>0.000000</td>\n",
       "      <td>0.122210</td>\n",
       "      <td>0.139372</td>\n",
       "      <td>0.401108</td>\n",
       "      <td>0.000000</td>\n",
       "      <td>0.000000</td>\n",
       "      <td>0.319763</td>\n",
       "      <td>0.673696</td>\n",
       "    </tr>\n",
       "    <tr>\n",
       "      <th>964</th>\n",
       "      <td>0.364357</td>\n",
       "      <td>0.603839</td>\n",
       "      <td>0.269501</td>\n",
       "      <td>2.031693</td>\n",
       "      <td>3.103895</td>\n",
       "      <td>0.194398</td>\n",
       "      <td>0.174199</td>\n",
       "      <td>2.980136</td>\n",
       "      <td>0.204553</td>\n",
       "      <td>0.956143</td>\n",
       "      <td>...</td>\n",
       "      <td>0.242126</td>\n",
       "      <td>0.159684</td>\n",
       "      <td>0.115291</td>\n",
       "      <td>0.120208</td>\n",
       "      <td>0.139590</td>\n",
       "      <td>0.395967</td>\n",
       "      <td>0.171797</td>\n",
       "      <td>0.174719</td>\n",
       "      <td>0.176571</td>\n",
       "      <td>1.245190</td>\n",
       "    </tr>\n",
       "    <tr>\n",
       "      <th>628</th>\n",
       "      <td>0.538779</td>\n",
       "      <td>0.627249</td>\n",
       "      <td>0.235624</td>\n",
       "      <td>1.572692</td>\n",
       "      <td>2.252728</td>\n",
       "      <td>0.189030</td>\n",
       "      <td>0.159245</td>\n",
       "      <td>1.570628</td>\n",
       "      <td>0.162194</td>\n",
       "      <td>1.377765</td>\n",
       "      <td>...</td>\n",
       "      <td>0.258695</td>\n",
       "      <td>0.193259</td>\n",
       "      <td>0.142703</td>\n",
       "      <td>0.096988</td>\n",
       "      <td>0.161886</td>\n",
       "      <td>0.280925</td>\n",
       "      <td>0.158300</td>\n",
       "      <td>0.241484</td>\n",
       "      <td>0.203837</td>\n",
       "      <td>1.102546</td>\n",
       "    </tr>\n",
       "    <tr>\n",
       "      <th>303</th>\n",
       "      <td>0.544844</td>\n",
       "      <td>0.726999</td>\n",
       "      <td>0.390846</td>\n",
       "      <td>2.521089</td>\n",
       "      <td>4.967323</td>\n",
       "      <td>0.275550</td>\n",
       "      <td>0.190962</td>\n",
       "      <td>4.576825</td>\n",
       "      <td>0.240209</td>\n",
       "      <td>1.591425</td>\n",
       "      <td>...</td>\n",
       "      <td>0.210709</td>\n",
       "      <td>0.000000</td>\n",
       "      <td>0.109496</td>\n",
       "      <td>0.117714</td>\n",
       "      <td>0.099507</td>\n",
       "      <td>0.385510</td>\n",
       "      <td>0.177962</td>\n",
       "      <td>0.141927</td>\n",
       "      <td>0.000000</td>\n",
       "      <td>1.394424</td>\n",
       "    </tr>\n",
       "    <tr>\n",
       "      <th>...</th>\n",
       "      <td>...</td>\n",
       "      <td>...</td>\n",
       "      <td>...</td>\n",
       "      <td>...</td>\n",
       "      <td>...</td>\n",
       "      <td>...</td>\n",
       "      <td>...</td>\n",
       "      <td>...</td>\n",
       "      <td>...</td>\n",
       "      <td>...</td>\n",
       "      <td>...</td>\n",
       "      <td>...</td>\n",
       "      <td>...</td>\n",
       "      <td>...</td>\n",
       "      <td>...</td>\n",
       "      <td>...</td>\n",
       "      <td>...</td>\n",
       "      <td>...</td>\n",
       "      <td>...</td>\n",
       "      <td>...</td>\n",
       "      <td>...</td>\n",
       "    </tr>\n",
       "    <tr>\n",
       "      <th>416</th>\n",
       "      <td>0.316724</td>\n",
       "      <td>0.503506</td>\n",
       "      <td>0.251380</td>\n",
       "      <td>2.017604</td>\n",
       "      <td>2.937043</td>\n",
       "      <td>0.182903</td>\n",
       "      <td>0.147546</td>\n",
       "      <td>2.131434</td>\n",
       "      <td>0.161271</td>\n",
       "      <td>1.073251</td>\n",
       "      <td>...</td>\n",
       "      <td>0.213697</td>\n",
       "      <td>0.146840</td>\n",
       "      <td>0.119874</td>\n",
       "      <td>0.107459</td>\n",
       "      <td>0.140429</td>\n",
       "      <td>0.429836</td>\n",
       "      <td>0.126895</td>\n",
       "      <td>0.183169</td>\n",
       "      <td>0.167396</td>\n",
       "      <td>1.735219</td>\n",
       "    </tr>\n",
       "    <tr>\n",
       "      <th>177</th>\n",
       "      <td>0.269688</td>\n",
       "      <td>0.408125</td>\n",
       "      <td>0.317188</td>\n",
       "      <td>2.138750</td>\n",
       "      <td>3.045000</td>\n",
       "      <td>0.314375</td>\n",
       "      <td>0.225000</td>\n",
       "      <td>5.321562</td>\n",
       "      <td>0.225938</td>\n",
       "      <td>1.347500</td>\n",
       "      <td>...</td>\n",
       "      <td>0.247589</td>\n",
       "      <td>0.229199</td>\n",
       "      <td>0.213949</td>\n",
       "      <td>0.121776</td>\n",
       "      <td>0.205876</td>\n",
       "      <td>0.484189</td>\n",
       "      <td>0.242880</td>\n",
       "      <td>0.340884</td>\n",
       "      <td>0.355461</td>\n",
       "      <td>1.049338</td>\n",
       "    </tr>\n",
       "    <tr>\n",
       "      <th>973</th>\n",
       "      <td>0.235137</td>\n",
       "      <td>0.390109</td>\n",
       "      <td>0.206749</td>\n",
       "      <td>1.466881</td>\n",
       "      <td>1.836636</td>\n",
       "      <td>0.165685</td>\n",
       "      <td>0.146402</td>\n",
       "      <td>1.657383</td>\n",
       "      <td>0.154258</td>\n",
       "      <td>0.755044</td>\n",
       "      <td>...</td>\n",
       "      <td>0.238396</td>\n",
       "      <td>0.192413</td>\n",
       "      <td>0.122719</td>\n",
       "      <td>0.114815</td>\n",
       "      <td>0.150022</td>\n",
       "      <td>0.371605</td>\n",
       "      <td>0.189395</td>\n",
       "      <td>0.211381</td>\n",
       "      <td>0.254778</td>\n",
       "      <td>0.999856</td>\n",
       "    </tr>\n",
       "    <tr>\n",
       "      <th>1056</th>\n",
       "      <td>0.237047</td>\n",
       "      <td>0.413551</td>\n",
       "      <td>0.296071</td>\n",
       "      <td>2.140444</td>\n",
       "      <td>2.790283</td>\n",
       "      <td>0.241412</td>\n",
       "      <td>0.183336</td>\n",
       "      <td>3.255456</td>\n",
       "      <td>0.227747</td>\n",
       "      <td>1.026571</td>\n",
       "      <td>...</td>\n",
       "      <td>0.227923</td>\n",
       "      <td>0.156019</td>\n",
       "      <td>0.000000</td>\n",
       "      <td>0.117662</td>\n",
       "      <td>0.000000</td>\n",
       "      <td>0.322274</td>\n",
       "      <td>0.287124</td>\n",
       "      <td>0.162432</td>\n",
       "      <td>0.249507</td>\n",
       "      <td>1.383078</td>\n",
       "    </tr>\n",
       "    <tr>\n",
       "      <th>458</th>\n",
       "      <td>0.292189</td>\n",
       "      <td>0.506270</td>\n",
       "      <td>0.337155</td>\n",
       "      <td>2.788427</td>\n",
       "      <td>4.879792</td>\n",
       "      <td>0.291652</td>\n",
       "      <td>0.206557</td>\n",
       "      <td>3.666965</td>\n",
       "      <td>0.239520</td>\n",
       "      <td>1.304013</td>\n",
       "      <td>...</td>\n",
       "      <td>0.205155</td>\n",
       "      <td>0.144980</td>\n",
       "      <td>0.123987</td>\n",
       "      <td>0.138225</td>\n",
       "      <td>0.117231</td>\n",
       "      <td>0.533465</td>\n",
       "      <td>0.117959</td>\n",
       "      <td>0.157971</td>\n",
       "      <td>0.186760</td>\n",
       "      <td>1.317605</td>\n",
       "    </tr>\n",
       "  </tbody>\n",
       "</table>\n",
       "<p>540 rows × 77 columns</p>\n",
       "</div>"
      ],
      "text/plain": [
       "      DYRK1A_N   ITSN1_N    BDNF_N     NR1_N    NR2A_N    pAKT_N   pBRAF_N  \\\n",
       "858   0.425800  0.704007  0.300497  2.129923  3.277630  0.228664  0.170228   \n",
       "735   0.330477  0.567582  0.355307  2.735094  4.751005  0.253366  0.206854   \n",
       "964   0.364357  0.603839  0.269501  2.031693  3.103895  0.194398  0.174199   \n",
       "628   0.538779  0.627249  0.235624  1.572692  2.252728  0.189030  0.159245   \n",
       "303   0.544844  0.726999  0.390846  2.521089  4.967323  0.275550  0.190962   \n",
       "...        ...       ...       ...       ...       ...       ...       ...   \n",
       "416   0.316724  0.503506  0.251380  2.017604  2.937043  0.182903  0.147546   \n",
       "177   0.269688  0.408125  0.317188  2.138750  3.045000  0.314375  0.225000   \n",
       "973   0.235137  0.390109  0.206749  1.466881  1.836636  0.165685  0.146402   \n",
       "1056  0.237047  0.413551  0.296071  2.140444  2.790283  0.241412  0.183336   \n",
       "458   0.292189  0.506270  0.337155  2.788427  4.879792  0.291652  0.206557   \n",
       "\n",
       "      pCAMKII_N   pCREB_N    pELK_N  ...     SHH_N     BAD_N    BCL2_N  \\\n",
       "858    4.190900  0.237903  1.234669  ...  0.237162  0.167413  0.118092   \n",
       "735    3.375590  0.231509  1.768666  ...  0.216792  0.000000  0.000000   \n",
       "964    2.980136  0.204553  0.956143  ...  0.242126  0.159684  0.115291   \n",
       "628    1.570628  0.162194  1.377765  ...  0.258695  0.193259  0.142703   \n",
       "303    4.576825  0.240209  1.591425  ...  0.210709  0.000000  0.109496   \n",
       "...         ...       ...       ...  ...       ...       ...       ...   \n",
       "416    2.131434  0.161271  1.073251  ...  0.213697  0.146840  0.119874   \n",
       "177    5.321562  0.225938  1.347500  ...  0.247589  0.229199  0.213949   \n",
       "973    1.657383  0.154258  0.755044  ...  0.238396  0.192413  0.122719   \n",
       "1056   3.255456  0.227747  1.026571  ...  0.227923  0.156019  0.000000   \n",
       "458    3.666965  0.239520  1.304013  ...  0.205155  0.144980  0.123987   \n",
       "\n",
       "         pS6_N   pCFOS_N     SYP_N  H3AcK18_N    EGR1_N  H3MeK4_N    CaNA_N  \n",
       "858   0.118791  0.111655  0.502519   0.193788  0.162866  0.188051  1.791101  \n",
       "735   0.122210  0.139372  0.401108   0.000000  0.000000  0.319763  0.673696  \n",
       "964   0.120208  0.139590  0.395967   0.171797  0.174719  0.176571  1.245190  \n",
       "628   0.096988  0.161886  0.280925   0.158300  0.241484  0.203837  1.102546  \n",
       "303   0.117714  0.099507  0.385510   0.177962  0.141927  0.000000  1.394424  \n",
       "...        ...       ...       ...        ...       ...       ...       ...  \n",
       "416   0.107459  0.140429  0.429836   0.126895  0.183169  0.167396  1.735219  \n",
       "177   0.121776  0.205876  0.484189   0.242880  0.340884  0.355461  1.049338  \n",
       "973   0.114815  0.150022  0.371605   0.189395  0.211381  0.254778  0.999856  \n",
       "1056  0.117662  0.000000  0.322274   0.287124  0.162432  0.249507  1.383078  \n",
       "458   0.138225  0.117231  0.533465   0.117959  0.157971  0.186760  1.317605  \n",
       "\n",
       "[540 rows x 77 columns]"
      ]
     },
     "execution_count": 58,
     "metadata": {},
     "output_type": "execute_result"
    }
   ],
   "source": [
    "x_test"
   ]
  },
  {
   "cell_type": "code",
   "execution_count": 59,
   "metadata": {},
   "outputs": [
    {
     "data": {
      "text/plain": [
       "(540, 77)"
      ]
     },
     "execution_count": 59,
     "metadata": {},
     "output_type": "execute_result"
    }
   ],
   "source": [
    "x_test.shape"
   ]
  },
  {
   "cell_type": "code",
   "execution_count": 60,
   "metadata": {},
   "outputs": [
    {
     "data": {
      "text/plain": [
       "858     t-CS-s\n",
       "735     t-SC-m\n",
       "964     t-SC-s\n",
       "628     t-CS-m\n",
       "303     c-CS-s\n",
       "         ...  \n",
       "416     c-CS-s\n",
       "177     c-SC-m\n",
       "973     t-SC-s\n",
       "1056    t-SC-s\n",
       "458     c-SC-s\n",
       "Name: class, Length: 540, dtype: object"
      ]
     },
     "execution_count": 60,
     "metadata": {},
     "output_type": "execute_result"
    }
   ],
   "source": [
    "y_test"
   ]
  },
  {
   "cell_type": "code",
   "execution_count": 61,
   "metadata": {},
   "outputs": [
    {
     "data": {
      "text/plain": [
       "(540,)"
      ]
     },
     "execution_count": 61,
     "metadata": {},
     "output_type": "execute_result"
    }
   ],
   "source": [
    "y_test.shape"
   ]
  },
  {
   "cell_type": "code",
   "execution_count": 62,
   "metadata": {},
   "outputs": [
    {
     "name": "stdout",
     "output_type": "stream",
     "text": [
      "[[68  1  0  0  0  0  0  0]\n",
      " [ 6 65  0  0  0  1  0  0]\n",
      " [ 0  0 78  0  0  0  3  0]\n",
      " [ 0  0  0 56  0  0  0  0]\n",
      " [ 0  0  0  0 68  3  0  0]\n",
      " [ 3  1  0  0  0 53  0  0]\n",
      " [ 0  0  3  2  0  0 64  0]\n",
      " [ 0  0  1  0  0  0  0 64]]\n"
     ]
    }
   ],
   "source": [
    "knn = KNeighborsClassifier(n_neighbors = 1, weights = 'uniform', metric = 'minkowski', p = 2)\n",
    "knn.fit(x_train, y_train)\n",
    "predicted = knn.predict(x_test)\n",
    "cm = confusion_matrix(y_test,predicted)\n",
    "print(cm)"
   ]
  },
  {
   "cell_type": "code",
   "execution_count": 63,
   "metadata": {},
   "outputs": [
    {
     "name": "stdout",
     "output_type": "stream",
     "text": [
      "[Train/test split] score: 0.95556\n"
     ]
    }
   ],
   "source": [
    "print(\"[Train/test split] score: {:.5f}\".format(knn.score(x_test, y_test)))"
   ]
  },
  {
   "cell_type": "code",
   "execution_count": 64,
   "metadata": {},
   "outputs": [],
   "source": [
    "kf = KFold(n_splits = 5, random_state = 4, shuffle = True)"
   ]
  },
  {
   "cell_type": "code",
   "execution_count": 65,
   "metadata": {},
   "outputs": [
    {
     "name": "stdout",
     "output_type": "stream",
     "text": [
      "TRAIN: [   0    1    2    3    4    5    6    7    8    9   10   11   12   13\n",
      "   14   15   16   18   19   20   21   22   23   24   25   26   27   28\n",
      "   29   31   32   34   36   37   38   39   41   42   43   44   45   46\n",
      "   48   49   50   51   52   53   54   56   57   60   61   62   64   65\n",
      "   67   68   69   71   73   77   78   79   80   81   82   83   84   85\n",
      "   86   87   90   91   93   94   95   96   97   99  100  101  103  105\n",
      "  106  107  108  109  111  113  114  116  117  118  119  120  121  122\n",
      "  123  125  126  127  128  129  130  131  132  134  135  136  137  139\n",
      "  140  141  142  143  144  145  146  148  149  150  151  155  156  158\n",
      "  159  160  165  166  167  168  169  170  171  172  173  174  175  176\n",
      "  177  180  181  182  183  184  185  186  187  189  190  192  193  194\n",
      "  195  196  197  198  199  200  201  203  204  205  206  207  208  209\n",
      "  210  212  213  214  216  217  218  219  220  222  223  226  227  228\n",
      "  229  230  231  232  233  234  235  239  240  241  242  243  245  246\n",
      "  248  249  250  251  252  254  255  256  257  258  259  261  262  263\n",
      "  264  265  266  267  268  269  271  272  273  274  276  277  278  280\n",
      "  281  282  284  287  288  289  290  291  292  293  294  295  296  297\n",
      "  298  299  301  302  304  306  307  308  309  310  311  312  313  314\n",
      "  315  316  317  318  320  321  322  323  324  326  327  328  329  332\n",
      "  333  334  335  338  339  341  342  343  344  346  347  348  349  350\n",
      "  351  355  356  357  358  359  360  361  362  363  364  365  366  367\n",
      "  368  369  371  372  373  374  375  377  378  382  383  384  386  387\n",
      "  388  389  390  391  392  393  394  396  397  399  400  403  406  407\n",
      "  408  410  412  413  414  415  416  417  418  419  420  421  422  423\n",
      "  424  425  426  428  429  430  431  432  433  434  435  436  438  439\n",
      "  440  441  442  443  444  445  446  447  448  449  450  451  452  453\n",
      "  454  456  457  458  459  460  461  462  464  465  466  467  468  469\n",
      "  470  471  472  473  474  475  476  477  478  480  483  484  485  487\n",
      "  488  491  492  493  494  495  496  497  498  499  500  501  502  503\n",
      "  504  505  506  507  508  509  510  511  512  513  514  515  516  518\n",
      "  519  520  521  522  524  526  527  528  529  530  531  532  533  535\n",
      "  536  537  539  540  541  542  543  544  545  546  547  548  549  550\n",
      "  551  552  553  554  555  556  558  559  560  561  562  563  564  565\n",
      "  567  569  571  572  573  577  578  579  580  581  583  584  585  586\n",
      "  587  589  590  591  592  593  597  598  599  600  602  603  604  605\n",
      "  606  607  608  609  610  611  612  613  614  619  621  622  623  624\n",
      "  625  626  627  629  630  631  632  633  634  635  636  637  638  639\n",
      "  640  642  644  646  647  648  650  651  652  653  654  655  657  658\n",
      "  660  662  663  664  666  667  669  670  671  673  674  675  676  679\n",
      "  680  681  685  686  687  688  689  690  691  692  693  695  696  697\n",
      "  699  702  703  705  706  707  708  709  710  711  712  713  714  715\n",
      "  717  719  720  722  723  724  725  726  727  729  730  732  733  736\n",
      "  737  738  739  740  741  742  743  744  745  746  747  748  749  752\n",
      "  753  754  755  756  757  758  759  760  761  764  765  766  767  768\n",
      "  769  770  771  772  773  774  775  776  777  779  780  781  782  784\n",
      "  785  786  787  788  789  790  792  793  794  795  796  797  800  802\n",
      "  803  805  806  807  808  809  810  812  813  814  816  817  818  819\n",
      "  820  821  822  823  824  825  826  828  830  831  832  833  834  835\n",
      "  836  837  838  842  843  844  845  847  848  849  850  852  854  856\n",
      "  859  861  863  865  866  867  870  871  872  873  874  875  876  878\n",
      "  879  881  882  883  884  886  888  889  890  892  896  898  899  900\n",
      "  902  903  905  906  907  908  909  910  911  912  913  914  915  916\n",
      "  917  918  920  921  923  924  926  927  928  929  930  932  933  935\n",
      "  936  937  938  939  940  942  944  945  946  948  949  951  952  953\n",
      "  954  955  956  957  958  959  960  961  962  963  965  966  967  968\n",
      "  969  970  972  973  974  975  976  977  978  980  981  982  983  984\n",
      "  985  986  988  989  990  992  993  994  995  996  997  998 1001 1002\n",
      " 1003 1004 1005 1006 1007 1008 1009 1010 1011 1012 1013 1014 1015 1016\n",
      " 1017 1019 1020 1021 1022 1023 1024 1027 1029 1030 1031 1032 1034 1035\n",
      " 1036 1038 1039 1040 1041 1043 1044 1045 1046 1047 1048 1049 1050 1051\n",
      " 1052 1054 1055 1056 1057 1058 1059 1060 1061 1062 1063 1064 1065 1066\n",
      " 1068 1069 1070 1073 1074 1075 1076 1077 1078 1079] TEST: [  17   30   33   35   40   47   55   58   59   63   66   70   72   74\n",
      "   75   76   88   89   92   98  102  104  110  112  115  124  133  138\n",
      "  147  152  153  154  157  161  162  163  164  178  179  188  191  202\n",
      "  211  215  221  224  225  236  237  238  244  247  253  260  270  275\n",
      "  279  283  285  286  300  303  305  319  325  330  331  336  337  340\n",
      "  345  352  353  354  370  376  379  380  381  385  395  398  401  402\n",
      "  404  405  409  411  427  437  455  463  479  481  482  486  489  490\n",
      "  517  523  525  534  538  557  566  568  570  574  575  576  582  588\n",
      "  594  595  596  601  615  616  617  618  620  628  641  643  645  649\n",
      "  656  659  661  665  668  672  677  678  682  683  684  694  698  700\n",
      "  701  704  716  718  721  728  731  734  735  750  751  762  763  778\n",
      "  783  791  798  799  801  804  811  815  827  829  839  840  841  846\n",
      "  851  853  855  857  858  860  862  864  868  869  877  880  885  887\n",
      "  891  893  894  895  897  901  904  919  922  925  931  934  941  943\n",
      "  947  950  964  971  979  987  991  999 1000 1018 1025 1026 1028 1033\n",
      " 1037 1042 1053 1067 1071 1072]\n",
      "TRAIN: [   0    1    2    3    4    5    6    7    8    9   10   12   14   16\n",
      "   17   18   19   20   21   22   23   24   25   26   27   28   29   30\n",
      "   32   33   35   37   38   39   40   41   43   44   45   46   47   48\n",
      "   49   51   52   54   55   56   57   58   59   60   61   63   64   66\n",
      "   68   69   70   71   72   73   74   75   76   78   79   80   81   82\n",
      "   84   85   86   87   88   89   91   92   94   95   96   97   98   99\n",
      "  100  101  102  103  104  105  107  108  109  110  111  112  115  116\n",
      "  117  118  119  121  122  123  124  125  126  128  129  130  131  132\n",
      "  133  134  135  137  138  140  141  142  143  144  145  147  148  149\n",
      "  150  151  152  153  154  156  157  158  159  160  161  162  163  164\n",
      "  165  166  168  169  171  172  173  174  176  177  178  179  182  183\n",
      "  185  186  187  188  190  191  192  195  196  197  198  199  200  201\n",
      "  202  203  204  205  206  207  208  210  211  212  215  216  217  218\n",
      "  221  223  224  225  226  227  229  230  231  232  233  234  235  236\n",
      "  237  238  240  241  242  243  244  245  246  247  248  249  250  251\n",
      "  252  253  255  256  257  258  259  260  261  263  264  266  267  268\n",
      "  269  270  271  272  274  275  276  279  281  283  284  285  286  291\n",
      "  292  294  296  297  298  300  301  302  303  305  308  309  311  312\n",
      "  313  314  315  316  317  318  319  320  323  325  327  329  330  331\n",
      "  332  334  335  336  337  338  339  340  341  342  343  344  345  346\n",
      "  348  349  350  351  352  353  354  355  356  359  360  361  364  365\n",
      "  366  367  368  369  370  371  373  375  376  377  378  379  380  381\n",
      "  382  383  384  385  386  387  388  389  391  392  393  394  395  396\n",
      "  397  398  400  401  402  403  404  405  407  408  409  410  411  412\n",
      "  414  415  416  417  418  421  422  423  425  426  427  430  432  433\n",
      "  434  435  436  437  438  439  440  442  443  444  445  448  449  450\n",
      "  451  452  453  454  455  456  457  458  459  460  461  463  464  466\n",
      "  468  469  470  471  473  476  478  479  480  481  482  483  484  485\n",
      "  486  487  488  489  490  491  492  493  494  495  497  498  499  500\n",
      "  501  502  504  505  506  507  510  512  513  514  516  517  518  519\n",
      "  523  525  526  527  528  529  531  532  533  534  535  536  538  540\n",
      "  541  542  543  544  546  547  548  549  550  551  552  553  554  555\n",
      "  556  557  560  561  562  563  564  565  566  567  568  569  570  572\n",
      "  573  574  575  576  577  579  581  582  583  584  585  586  587  588\n",
      "  589  590  591  593  594  595  596  597  598  599  600  601  602  603\n",
      "  605  606  607  608  609  610  612  613  614  615  616  617  618  619\n",
      "  620  621  622  623  626  627  628  630  633  635  637  638  639  641\n",
      "  642  643  645  647  648  649  651  653  655  656  657  659  660  661\n",
      "  662  663  664  665  667  668  669  671  672  673  674  675  677  678\n",
      "  679  680  681  682  683  684  685  686  687  688  689  690  691  692\n",
      "  693  694  696  697  698  699  700  701  702  703  704  705  706  708\n",
      "  709  710  711  712  713  714  716  717  718  719  720  721  723  725\n",
      "  727  728  729  731  732  734  735  736  737  738  739  742  744  745\n",
      "  746  747  748  749  750  751  752  753  754  756  757  758  760  761\n",
      "  762  763  764  765  766  767  769  770  771  772  773  774  775  778\n",
      "  783  784  785  788  789  791  794  795  796  797  798  799  800  801\n",
      "  804  805  806  808  811  812  814  815  816  817  818  821  823  826\n",
      "  827  828  829  830  831  832  833  834  836  837  838  839  840  841\n",
      "  842  843  844  845  846  847  850  851  852  853  855  857  858  860\n",
      "  861  862  863  864  865  866  868  869  870  871  873  875  876  877\n",
      "  879  880  881  884  885  886  887  888  889  890  891  893  894  895\n",
      "  896  897  898  899  900  901  902  904  907  908  910  911  912  913\n",
      "  914  915  916  917  918  919  920  921  922  923  924  925  927  928\n",
      "  930  931  932  933  934  935  936  937  938  940  941  942  943  945\n",
      "  946  947  949  950  951  953  954  955  956  957  958  959  960  961\n",
      "  964  965  966  968  969  970  971  972  973  974  975  976  977  979\n",
      "  980  981  982  983  984  985  987  988  989  990  991  992  993  995\n",
      "  996  997  998  999 1000 1001 1002 1003 1005 1007 1008 1009 1010 1011\n",
      " 1012 1013 1014 1015 1016 1017 1018 1021 1023 1024 1025 1026 1028 1029\n",
      " 1031 1032 1033 1036 1037 1038 1039 1040 1041 1042 1045 1046 1047 1048\n",
      " 1049 1050 1051 1052 1053 1054 1055 1056 1058 1059 1060 1063 1065 1067\n",
      " 1068 1069 1071 1072 1074 1075 1076 1077 1078 1079] TEST: [  11   13   15   31   34   36   42   50   53   62   65   67   77   83\n",
      "   90   93  106  113  114  120  127  136  139  146  155  167  170  175\n",
      "  180  181  184  189  193  194  209  213  214  219  220  222  228  239\n",
      "  254  262  265  273  277  278  280  282  287  288  289  290  293  295\n",
      "  299  304  306  307  310  321  322  324  326  328  333  347  357  358\n",
      "  362  363  372  374  390  399  406  413  419  420  424  428  429  431\n",
      "  441  446  447  462  465  467  472  474  475  477  496  503  508  509\n",
      "  511  515  520  521  522  524  530  537  539  545  558  559  571  578\n",
      "  580  592  604  611  624  625  629  631  632  634  636  640  644  646\n",
      "  650  652  654  658  666  670  676  695  707  715  722  724  726  730\n",
      "  733  740  741  743  755  759  768  776  777  779  780  781  782  786\n",
      "  787  790  792  793  802  803  807  809  810  813  819  820  822  824\n",
      "  825  835  848  849  854  856  859  867  872  874  878  882  883  892\n",
      "  903  905  906  909  926  929  939  944  948  952  962  963  967  978\n",
      "  986  994 1004 1006 1019 1020 1022 1027 1030 1034 1035 1043 1044 1057\n",
      " 1061 1062 1064 1066 1070 1073]\n",
      "TRAIN: [   0    2    5    7    9   10   11   12   13   15   16   17   19   20\n",
      "   21   22   23   26   27   28   29   30   31   32   33   34   35   36\n",
      "   37   38   39   40   41   42   43   46   47   48   49   50   51   52\n",
      "   53   54   55   56   58   59   60   62   63   65   66   67   69   70\n",
      "   72   74   75   76   77   78   79   81   82   83   84   85   86   87\n",
      "   88   89   90   91   92   93   94   95   96   98  102  104  106  107\n",
      "  109  110  111  112  113  114  115  116  118  119  120  121  124  125\n",
      "  127  129  130  131  132  133  136  137  138  139  140  141  143  145\n",
      "  146  147  148  149  150  151  152  153  154  155  156  157  161  162\n",
      "  163  164  165  167  170  171  172  173  174  175  178  179  180  181\n",
      "  182  183  184  185  186  187  188  189  190  191  193  194  195  197\n",
      "  198  199  201  202  204  205  206  207  208  209  211  213  214  215\n",
      "  217  218  219  220  221  222  223  224  225  227  228  230  232  233\n",
      "  234  235  236  237  238  239  240  241  242  243  244  245  246  247\n",
      "  250  252  253  254  255  256  258  259  260  262  264  265  269  270\n",
      "  272  273  275  277  278  279  280  281  282  283  284  285  286  287\n",
      "  288  289  290  291  292  293  295  296  297  299  300  302  303  304\n",
      "  305  306  307  308  309  310  312  313  314  315  318  319  321  322\n",
      "  323  324  325  326  327  328  329  330  331  332  333  335  336  337\n",
      "  339  340  343  344  345  346  347  349  351  352  353  354  355  357\n",
      "  358  360  361  362  363  365  366  367  368  369  370  371  372  373\n",
      "  374  375  376  377  379  380  381  385  386  388  390  391  392  393\n",
      "  394  395  396  398  399  400  401  402  403  404  405  406  407  409\n",
      "  411  412  413  414  415  418  419  420  421  422  424  426  427  428\n",
      "  429  431  435  437  438  439  440  441  442  443  445  446  447  448\n",
      "  449  450  451  453  454  455  456  457  460  462  463  465  466  467\n",
      "  468  469  470  472  474  475  477  478  479  480  481  482  483  485\n",
      "  486  487  488  489  490  491  494  496  498  499  500  501  502  503\n",
      "  505  506  508  509  510  511  513  514  515  516  517  519  520  521\n",
      "  522  523  524  525  527  528  529  530  531  532  533  534  537  538\n",
      "  539  540  542  543  545  546  547  548  549  552  553  555  556  557\n",
      "  558  559  560  561  562  564  565  566  568  569  570  571  572  573\n",
      "  574  575  576  578  579  580  581  582  583  586  587  588  589  591\n",
      "  592  594  595  596  597  598  601  602  603  604  605  606  607  609\n",
      "  610  611  613  615  616  617  618  619  620  622  624  625  626  627\n",
      "  628  629  631  632  633  634  636  637  638  639  640  641  643  644\n",
      "  645  646  647  648  649  650  652  653  654  655  656  658  659  660\n",
      "  661  662  664  665  666  667  668  670  672  673  674  676  677  678\n",
      "  679  680  682  683  684  686  688  689  690  691  692  693  694  695\n",
      "  697  698  699  700  701  702  703  704  705  706  707  708  709  710\n",
      "  711  712  713  715  716  717  718  719  720  721  722  724  726  727\n",
      "  728  729  730  731  732  733  734  735  736  740  741  742  743  744\n",
      "  745  746  747  748  749  750  751  754  755  756  757  759  761  762\n",
      "  763  764  765  768  769  770  771  772  775  776  777  778  779  780\n",
      "  781  782  783  785  786  787  789  790  791  792  793  795  796  797\n",
      "  798  799  800  801  802  803  804  805  806  807  808  809  810  811\n",
      "  812  813  814  815  817  818  819  820  821  822  823  824  825  826\n",
      "  827  828  829  830  832  833  834  835  836  839  840  841  842  844\n",
      "  845  846  848  849  851  853  854  855  856  857  858  859  860  861\n",
      "  862  864  865  867  868  869  870  871  872  873  874  875  876  877\n",
      "  878  879  880  881  882  883  884  885  887  888  891  892  893  894\n",
      "  895  896  897  899  900  901  902  903  904  905  906  907  909  910\n",
      "  911  912  913  914  915  916  917  918  919  920  921  922  923  925\n",
      "  926  927  928  929  930  931  933  934  935  938  939  940  941  943\n",
      "  944  945  946  947  948  950  951  952  954  955  956  958  959  960\n",
      "  961  962  963  964  965  966  967  968  969  971  972  974  975  976\n",
      "  978  979  980  981  985  986  987  988  990  991  993  994  996  997\n",
      "  998  999 1000 1001 1002 1003 1004 1005 1006 1007 1008 1010 1011 1012\n",
      " 1015 1018 1019 1020 1021 1022 1023 1024 1025 1026 1027 1028 1030 1031\n",
      " 1032 1033 1034 1035 1036 1037 1038 1039 1040 1041 1042 1043 1044 1045\n",
      " 1047 1048 1050 1051 1053 1054 1057 1058 1061 1062 1063 1064 1065 1066\n",
      " 1067 1068 1069 1070 1071 1072 1073 1076 1078 1079] TEST: [   1    3    4    6    8   14   18   24   25   44   45   57   61   64\n",
      "   68   71   73   80   97   99  100  101  103  105  108  117  122  123\n",
      "  126  128  134  135  142  144  158  159  160  166  168  169  176  177\n",
      "  192  196  200  203  210  212  216  226  229  231  248  249  251  257\n",
      "  261  263  266  267  268  271  274  276  294  298  301  311  316  317\n",
      "  320  334  338  341  342  348  350  356  359  364  378  382  383  384\n",
      "  387  389  397  408  410  416  417  423  425  430  432  433  434  436\n",
      "  444  452  458  459  461  464  471  473  476  484  492  493  495  497\n",
      "  504  507  512  518  526  535  536  541  544  550  551  554  563  567\n",
      "  577  584  585  590  593  599  600  608  612  614  621  623  630  635\n",
      "  642  651  657  663  669  671  675  681  685  687  696  714  723  725\n",
      "  737  738  739  752  753  758  760  766  767  773  774  784  788  794\n",
      "  816  831  837  838  843  847  850  852  863  866  886  889  890  898\n",
      "  908  924  932  936  937  942  949  953  957  970  973  977  982  983\n",
      "  984  989  992  995 1009 1013 1014 1016 1017 1029 1046 1049 1052 1055\n",
      " 1056 1059 1060 1074 1075 1077]\n",
      "TRAIN: [   0    1    2    3    4    5    6    7    8    9   10   11   13   14\n",
      "   15   17   18   22   23   24   25   26   27   29   30   31   32   33\n",
      "   34   35   36   37   40   42   44   45   47   49   50   51   52   53\n",
      "   54   55   56   57   58   59   61   62   63   64   65   66   67   68\n",
      "   70   71   72   73   74   75   76   77   78   80   81   83   86   88\n",
      "   89   90   92   93   95   97   98   99  100  101  102  103  104  105\n",
      "  106  107  108  109  110  111  112  113  114  115  117  118  119  120\n",
      "  121  122  123  124  125  126  127  128  131  133  134  135  136  138\n",
      "  139  142  143  144  145  146  147  149  151  152  153  154  155  156\n",
      "  157  158  159  160  161  162  163  164  165  166  167  168  169  170\n",
      "  171  174  175  176  177  178  179  180  181  183  184  187  188  189\n",
      "  190  191  192  193  194  196  198  200  202  203  207  208  209  210\n",
      "  211  212  213  214  215  216  217  218  219  220  221  222  224  225\n",
      "  226  227  228  229  231  233  236  237  238  239  240  243  244  246\n",
      "  247  248  249  250  251  252  253  254  255  257  258  259  260  261\n",
      "  262  263  264  265  266  267  268  270  271  273  274  275  276  277\n",
      "  278  279  280  281  282  283  284  285  286  287  288  289  290  291\n",
      "  293  294  295  296  297  298  299  300  301  303  304  305  306  307\n",
      "  308  309  310  311  315  316  317  318  319  320  321  322  324  325\n",
      "  326  328  330  331  333  334  335  336  337  338  340  341  342  343\n",
      "  345  347  348  350  352  353  354  356  357  358  359  360  362  363\n",
      "  364  366  370  372  374  375  376  377  378  379  380  381  382  383\n",
      "  384  385  387  388  389  390  391  393  394  395  396  397  398  399\n",
      "  401  402  404  405  406  408  409  410  411  412  413  414  416  417\n",
      "  418  419  420  421  422  423  424  425  426  427  428  429  430  431\n",
      "  432  433  434  435  436  437  439  441  443  444  445  446  447  448\n",
      "  452  454  455  456  457  458  459  460  461  462  463  464  465  466\n",
      "  467  470  471  472  473  474  475  476  477  478  479  481  482  484\n",
      "  486  487  488  489  490  491  492  493  494  495  496  497  498  499\n",
      "  500  501  502  503  504  505  507  508  509  510  511  512  515  516\n",
      "  517  518  519  520  521  522  523  524  525  526  527  530  533  534\n",
      "  535  536  537  538  539  540  541  543  544  545  547  548  550  551\n",
      "  552  553  554  557  558  559  562  563  564  565  566  567  568  569\n",
      "  570  571  574  575  576  577  578  579  580  582  584  585  586  587\n",
      "  588  589  590  591  592  593  594  595  596  598  599  600  601  602\n",
      "  604  608  609  610  611  612  614  615  616  617  618  620  621  623\n",
      "  624  625  626  627  628  629  630  631  632  634  635  636  638  639\n",
      "  640  641  642  643  644  645  646  647  649  650  651  652  653  654\n",
      "  655  656  657  658  659  660  661  662  663  665  666  667  668  669\n",
      "  670  671  672  675  676  677  678  680  681  682  683  684  685  686\n",
      "  687  690  691  693  694  695  696  698  699  700  701  704  706  707\n",
      "  708  709  711  713  714  715  716  718  720  721  722  723  724  725\n",
      "  726  727  728  729  730  731  733  734  735  736  737  738  739  740\n",
      "  741  742  743  746  748  749  750  751  752  753  754  755  758  759\n",
      "  760  761  762  763  764  766  767  768  771  772  773  774  776  777\n",
      "  778  779  780  781  782  783  784  785  786  787  788  789  790  791\n",
      "  792  793  794  795  798  799  801  802  803  804  805  806  807  808\n",
      "  809  810  811  813  815  816  817  818  819  820  822  823  824  825\n",
      "  827  828  829  831  833  835  837  838  839  840  841  842  843  844\n",
      "  846  847  848  849  850  851  852  853  854  855  856  857  858  859\n",
      "  860  862  863  864  865  866  867  868  869  870  872  873  874  876\n",
      "  877  878  880  882  883  885  886  887  888  889  890  891  892  893\n",
      "  894  895  897  898  899  901  903  904  905  906  908  909  910  911\n",
      "  912  913  915  918  919  920  922  924  925  926  927  929  931  932\n",
      "  934  935  936  937  938  939  941  942  943  944  946  947  948  949\n",
      "  950  951  952  953  954  955  957  958  959  961  962  963  964  966\n",
      "  967  969  970  971  973  976  977  978  979  982  983  984  986  987\n",
      "  988  989  991  992  993  994  995  999 1000 1002 1004 1006 1009 1013\n",
      " 1014 1016 1017 1018 1019 1020 1022 1024 1025 1026 1027 1028 1029 1030\n",
      " 1033 1034 1035 1036 1037 1042 1043 1044 1045 1046 1047 1048 1049 1051\n",
      " 1052 1053 1054 1055 1056 1057 1059 1060 1061 1062 1064 1066 1067 1068\n",
      " 1070 1071 1072 1073 1074 1075 1076 1077 1078 1079] TEST: [  12   16   19   20   21   28   38   39   41   43   46   48   60   69\n",
      "   79   82   84   85   87   91   94   96  116  129  130  132  137  140\n",
      "  141  148  150  172  173  182  185  186  195  197  199  201  204  205\n",
      "  206  223  230  232  234  235  241  242  245  256  269  272  292  302\n",
      "  312  313  314  323  327  329  332  339  344  346  349  351  355  361\n",
      "  365  367  368  369  371  373  386  392  400  403  407  415  438  440\n",
      "  442  449  450  451  453  468  469  480  483  485  506  513  514  528\n",
      "  529  531  532  542  546  549  555  556  560  561  572  573  581  583\n",
      "  597  603  605  606  607  613  619  622  633  637  648  664  673  674\n",
      "  679  688  689  692  697  702  703  705  710  712  717  719  732  744\n",
      "  745  747  756  757  765  769  770  775  796  797  800  812  814  821\n",
      "  826  830  832  834  836  845  861  871  875  879  881  884  896  900\n",
      "  902  907  914  916  917  921  923  928  930  933  940  945  956  960\n",
      "  965  968  972  974  975  980  981  985  990  996  997  998 1001 1003\n",
      " 1005 1007 1008 1010 1011 1012 1015 1021 1023 1031 1032 1038 1039 1040\n",
      " 1041 1050 1058 1063 1065 1069]\n",
      "TRAIN: [   1    3    4    6    8   11   12   13   14   15   16   17   18   19\n",
      "   20   21   24   25   28   30   31   33   34   35   36   38   39   40\n",
      "   41   42   43   44   45   46   47   48   50   53   55   57   58   59\n",
      "   60   61   62   63   64   65   66   67   68   69   70   71   72   73\n",
      "   74   75   76   77   79   80   82   83   84   85   87   88   89   90\n",
      "   91   92   93   94   96   97   98   99  100  101  102  103  104  105\n",
      "  106  108  110  112  113  114  115  116  117  120  122  123  124  126\n",
      "  127  128  129  130  132  133  134  135  136  137  138  139  140  141\n",
      "  142  144  146  147  148  150  152  153  154  155  157  158  159  160\n",
      "  161  162  163  164  166  167  168  169  170  172  173  175  176  177\n",
      "  178  179  180  181  182  184  185  186  188  189  191  192  193  194\n",
      "  195  196  197  199  200  201  202  203  204  205  206  209  210  211\n",
      "  212  213  214  215  216  219  220  221  222  223  224  225  226  228\n",
      "  229  230  231  232  234  235  236  237  238  239  241  242  244  245\n",
      "  247  248  249  251  253  254  256  257  260  261  262  263  265  266\n",
      "  267  268  269  270  271  272  273  274  275  276  277  278  279  280\n",
      "  282  283  285  286  287  288  289  290  292  293  294  295  298  299\n",
      "  300  301  302  303  304  305  306  307  310  311  312  313  314  316\n",
      "  317  319  320  321  322  323  324  325  326  327  328  329  330  331\n",
      "  332  333  334  336  337  338  339  340  341  342  344  345  346  347\n",
      "  348  349  350  351  352  353  354  355  356  357  358  359  361  362\n",
      "  363  364  365  367  368  369  370  371  372  373  374  376  378  379\n",
      "  380  381  382  383  384  385  386  387  389  390  392  395  397  398\n",
      "  399  400  401  402  403  404  405  406  407  408  409  410  411  413\n",
      "  415  416  417  419  420  423  424  425  427  428  429  430  431  432\n",
      "  433  434  436  437  438  440  441  442  444  446  447  449  450  451\n",
      "  452  453  455  458  459  461  462  463  464  465  467  468  469  471\n",
      "  472  473  474  475  476  477  479  480  481  482  483  484  485  486\n",
      "  489  490  492  493  495  496  497  503  504  506  507  508  509  511\n",
      "  512  513  514  515  517  518  520  521  522  523  524  525  526  528\n",
      "  529  530  531  532  534  535  536  537  538  539  541  542  544  545\n",
      "  546  549  550  551  554  555  556  557  558  559  560  561  563  566\n",
      "  567  568  570  571  572  573  574  575  576  577  578  580  581  582\n",
      "  583  584  585  588  590  592  593  594  595  596  597  599  600  601\n",
      "  603  604  605  606  607  608  611  612  613  614  615  616  617  618\n",
      "  619  620  621  622  623  624  625  628  629  630  631  632  633  634\n",
      "  635  636  637  640  641  642  643  644  645  646  648  649  650  651\n",
      "  652  654  656  657  658  659  661  663  664  665  666  668  669  670\n",
      "  671  672  673  674  675  676  677  678  679  681  682  683  684  685\n",
      "  687  688  689  692  694  695  696  697  698  700  701  702  703  704\n",
      "  705  707  710  712  714  715  716  717  718  719  721  722  723  724\n",
      "  725  726  728  730  731  732  733  734  735  737  738  739  740  741\n",
      "  743  744  745  747  750  751  752  753  755  756  757  758  759  760\n",
      "  762  763  765  766  767  768  769  770  773  774  775  776  777  778\n",
      "  779  780  781  782  783  784  786  787  788  790  791  792  793  794\n",
      "  796  797  798  799  800  801  802  803  804  807  809  810  811  812\n",
      "  813  814  815  816  819  820  821  822  824  825  826  827  829  830\n",
      "  831  832  834  835  836  837  838  839  840  841  843  845  846  847\n",
      "  848  849  850  851  852  853  854  855  856  857  858  859  860  861\n",
      "  862  863  864  866  867  868  869  871  872  874  875  877  878  879\n",
      "  880  881  882  883  884  885  886  887  889  890  891  892  893  894\n",
      "  895  896  897  898  900  901  902  903  904  905  906  907  908  909\n",
      "  914  916  917  919  921  922  923  924  925  926  928  929  930  931\n",
      "  932  933  934  936  937  939  940  941  942  943  944  945  947  948\n",
      "  949  950  952  953  956  957  960  962  963  964  965  967  968  970\n",
      "  971  972  973  974  975  977  978  979  980  981  982  983  984  985\n",
      "  986  987  989  990  991  992  994  995  996  997  998  999 1000 1001\n",
      " 1003 1004 1005 1006 1007 1008 1009 1010 1011 1012 1013 1014 1015 1016\n",
      " 1017 1018 1019 1020 1021 1022 1023 1025 1026 1027 1028 1029 1030 1031\n",
      " 1032 1033 1034 1035 1037 1038 1039 1040 1041 1042 1043 1044 1046 1049\n",
      " 1050 1052 1053 1055 1056 1057 1058 1059 1060 1061 1062 1063 1064 1065\n",
      " 1066 1067 1069 1070 1071 1072 1073 1074 1075 1077] TEST: [   0    2    5    7    9   10   22   23   26   27   29   32   37   49\n",
      "   51   52   54   56   78   81   86   95  107  109  111  118  119  121\n",
      "  125  131  143  145  149  151  156  165  171  174  183  187  190  198\n",
      "  207  208  217  218  227  233  240  243  246  250  252  255  258  259\n",
      "  264  281  284  291  296  297  308  309  315  318  335  343  360  366\n",
      "  375  377  388  391  393  394  396  412  414  418  421  422  426  435\n",
      "  439  443  445  448  454  456  457  460  466  470  478  487  488  491\n",
      "  494  498  499  500  501  502  505  510  516  519  527  533  540  543\n",
      "  547  548  552  553  562  564  565  569  579  586  587  589  591  598\n",
      "  602  609  610  626  627  638  639  647  653  655  660  662  667  680\n",
      "  686  690  691  693  699  706  708  709  711  713  720  727  729  736\n",
      "  742  746  748  749  754  761  764  771  772  785  789  795  805  806\n",
      "  808  817  818  823  828  833  842  844  865  870  873  876  888  899\n",
      "  910  911  912  913  915  918  920  927  935  938  946  951  954  955\n",
      "  958  959  961  966  969  976  988  993 1002 1024 1036 1045 1047 1048\n",
      " 1051 1054 1068 1076 1078 1079]\n"
     ]
    }
   ],
   "source": [
    "for train_index, test_index in kf.split(miceData):\n",
    "    print(\"TRAIN:\", train_index, \"TEST:\", test_index)\n",
    "    x_train, x_test = miceData.iloc[train_index], miceData.iloc[test_index]\n",
    "    y_train, y_test = miceTarget.iloc[train_index], miceTarget.iloc[test_index]"
   ]
  },
  {
   "cell_type": "code",
   "execution_count": 66,
   "metadata": {},
   "outputs": [
    {
     "name": "stdout",
     "output_type": "stream",
     "text": [
      "[fold 0] score: 0.97222\n",
      "[fold 1] score: 1.00000\n",
      "[fold 2] score: 0.98148\n",
      "[fold 3] score: 1.00000\n",
      "[fold 4] score: 0.99537\n"
     ]
    }
   ],
   "source": [
    "for k, (train_index, test_index) in enumerate(kf.split(miceData)):\n",
    "    x_train, x_test = miceData.iloc[train_index], miceData.iloc[test_index]\n",
    "    y_train, y_test = miceTarget.iloc[train_index], miceTarget.iloc[test_index]\n",
    "    knn.fit(x_train, y_train)\n",
    "    print(\"[fold {0}] score: {1:.5f}\".format(k, knn.score(x_test, y_test)))"
   ]
  },
  {
   "cell_type": "code",
   "execution_count": 67,
   "metadata": {},
   "outputs": [
    {
     "name": "stdout",
     "output_type": "stream",
     "text": [
      "KNN mean score [5 folds] = 0.989814\n"
     ]
    }
   ],
   "source": [
    "print(\"KNN mean score [5 folds] = 0.989814\")"
   ]
  },
  {
   "cell_type": "code",
   "execution_count": 68,
   "metadata": {},
   "outputs": [
    {
     "name": "stdout",
     "output_type": "stream",
     "text": [
      "[[29  1  0  0  2  1  0  0]\n",
      " [ 2 12  0  0  3  3  0  1]\n",
      " [ 0  0 27  2  0  0  0  0]\n",
      " [ 0  0  0 34  0  0  3  0]\n",
      " [ 1  0  0  0 23  0  0  1]\n",
      " [ 0  0  0  0  0 18  0  0]\n",
      " [ 0  0  1  3  0  0 25  0]\n",
      " [ 0  0  0  0  0  0  0 24]]\n"
     ]
    }
   ],
   "source": [
    "dtc = DecisionTreeClassifier(criterion = 'gini', splitter = 'best')\n",
    "fit = dtc.fit(x_train, y_train)\n",
    "y_pre = fit.predict(x_test)\n",
    "cm = confusion_matrix(y_test, y_pre)\n",
    "print(cm)"
   ]
  },
  {
   "cell_type": "code",
   "execution_count": 69,
   "metadata": {},
   "outputs": [
    {
     "name": "stdout",
     "output_type": "stream",
     "text": [
      "[Train/test split] score: 0.88889\n"
     ]
    }
   ],
   "source": [
    "print(\"[Train/test split] score: {:.5f}\".format(dtc.score(x_test, y_test)))"
   ]
  },
  {
   "cell_type": "code",
   "execution_count": 70,
   "metadata": {},
   "outputs": [
    {
     "name": "stdout",
     "output_type": "stream",
     "text": [
      "[fold 0] score: 0.87037\n",
      "[fold 1] score: 0.92130\n",
      "[fold 2] score: 0.85648\n",
      "[fold 3] score: 0.88426\n",
      "[fold 4] score: 0.88889\n"
     ]
    }
   ],
   "source": [
    "for k, (train_index, test_index) in enumerate(kf.split(miceData)):\n",
    "    x_train, x_test = miceData.iloc[train_index], miceData.iloc[test_index]\n",
    "    y_train, y_test = miceTarget.iloc[train_index], miceTarget.iloc[test_index]\n",
    "    dtc.fit(x_train, y_train)\n",
    "    print(\"[fold {0}] score: {1:.5f}\".format(k, dtc.score(x_test, y_test)))"
   ]
  },
  {
   "cell_type": "code",
   "execution_count": 71,
   "metadata": {},
   "outputs": [
    {
     "name": "stdout",
     "output_type": "stream",
     "text": [
      "DT mean score [5 folds] = 0.873148\n"
     ]
    }
   ],
   "source": [
    "print(\"DT mean score [5 folds] = 0.873148\")"
   ]
  },
  {
   "cell_type": "code",
   "execution_count": null,
   "metadata": {},
   "outputs": [],
   "source": []
  }
 ],
 "metadata": {
  "kernelspec": {
   "display_name": "Python 3",
   "language": "python",
   "name": "python3"
  },
  "language_info": {
   "codemirror_mode": {
    "name": "ipython",
    "version": 3
   },
   "file_extension": ".py",
   "mimetype": "text/x-python",
   "name": "python",
   "nbconvert_exporter": "python",
   "pygments_lexer": "ipython3",
   "version": "3.7.7"
  }
 },
 "nbformat": 4,
 "nbformat_minor": 4
}
